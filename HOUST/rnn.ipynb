{
  "cells": [
    {
      "cell_type": "markdown",
      "metadata": {
        "colab_type": "text",
        "id": "xpAuMVCwfWs8"
      },
      "source": [
        "# Recurrent Neural Network"
      ]
    },
    {
      "cell_type": "markdown",
      "metadata": {
        "colab_type": "text",
        "id": "nxJfRe4bfYVA"
      },
      "source": [
        "## Part 1 - Data Preprocessing"
      ]
    },
    {
      "cell_type": "code",
      "execution_count": null,
      "metadata": {},
      "outputs": [],
      "source": [
        "!pip show numpy"
      ]
    },
    {
      "cell_type": "markdown",
      "metadata": {
        "colab_type": "text",
        "id": "ir9zwETrfbrp"
      },
      "source": [
        "### Importing the libraries"
      ]
    },
    {
      "cell_type": "code",
      "execution_count": 1,
      "metadata": {
        "colab": {},
        "colab_type": "code",
        "id": "ZT1f24vHffuf"
      },
      "outputs": [],
      "source": [
        "import numpy as np\n",
        "import matplotlib.pyplot as plt\n",
        "import pandas as pd\n",
        "from sklearn.model_selection import train_test_split"
      ]
    },
    {
      "cell_type": "markdown",
      "metadata": {
        "colab_type": "text",
        "id": "nQ47JAxrgmaL"
      },
      "source": [
        "### Importing the training set"
      ]
    },
    {
      "cell_type": "code",
      "execution_count": 2,
      "metadata": {
        "colab": {},
        "colab_type": "code",
        "id": "1xiv3pJOgqY3"
      },
      "outputs": [],
      "source": [
        "df = pd.read_csv('HOUST.csv')\n",
        "# split data into training and testing sets\n",
        "dataset_train, dataset_test = train_test_split(df, test_size=0.1, shuffle=False)\n",
        "training_set = dataset_train.iloc[:, 1:2].values"
      ]
    },
    {
      "cell_type": "markdown",
      "metadata": {
        "colab_type": "text",
        "id": "HT8_2UJegtG5"
      },
      "source": [
        "### Feature Scaling"
      ]
    },
    {
      "cell_type": "code",
      "execution_count": 3,
      "metadata": {
        "colab": {},
        "colab_type": "code",
        "id": "OTrF2kR7gx9x"
      },
      "outputs": [],
      "source": [
        "from sklearn.preprocessing import MinMaxScaler\n",
        "sc = MinMaxScaler(feature_range = (0, 1))\n",
        "training_set_scaled = sc.fit_transform(training_set)"
      ]
    },
    {
      "cell_type": "markdown",
      "metadata": {
        "colab_type": "text",
        "id": "JyYgYocqhNUg"
      },
      "source": [
        "### Creating a data structure with 60 timesteps and 1 output"
      ]
    },
    {
      "cell_type": "code",
      "execution_count": 4,
      "metadata": {
        "colab": {},
        "colab_type": "code",
        "id": "iofU21B0i6ST"
      },
      "outputs": [],
      "source": [
        "X_train = []\n",
        "y_train = []\n",
        "for i in range(50, 615):\n",
        "    X_train.append(training_set_scaled[i-50:i, 0])\n",
        "    y_train.append(training_set_scaled[i, 0])\n",
        "X_train, y_train = np.array(X_train), np.array(y_train)"
      ]
    },
    {
      "cell_type": "markdown",
      "metadata": {
        "colab_type": "text",
        "id": "D8yaN7Zvi95l"
      },
      "source": [
        "### Reshaping"
      ]
    },
    {
      "cell_type": "code",
      "execution_count": 6,
      "metadata": {
        "colab": {},
        "colab_type": "code",
        "id": "FOXqJHmNjBkz"
      },
      "outputs": [],
      "source": [
        "X_train = np.reshape(X_train, (X_train.shape[0], X_train.shape[1], 1))"
      ]
    },
    {
      "cell_type": "markdown",
      "metadata": {
        "colab_type": "text",
        "id": "ZRRSOJeVjEWV"
      },
      "source": [
        "## Part 2 - Building and Training the RNN"
      ]
    },
    {
      "cell_type": "markdown",
      "metadata": {
        "colab_type": "text",
        "id": "k4XV88JMjHXG"
      },
      "source": [
        "### Importing the Keras libraries and packages"
      ]
    },
    {
      "cell_type": "code",
      "execution_count": 7,
      "metadata": {
        "colab": {
          "base_uri": "https://localhost:8080/",
          "height": 34
        },
        "colab_type": "code",
        "id": "9JRnqsxEjKsD",
        "outputId": "b3e23e78-18aa-4396-c923-c877b8de60e4"
      },
      "outputs": [],
      "source": [
        "import tensorflow as tf\n",
        "from tensorflow.keras.models import Sequential\n",
        "from tensorflow.keras.layers import Dense, LSTM, Dropout\n",
        "from keras.callbacks import ModelCheckpoint\n",
        "import os"
      ]
    },
    {
      "cell_type": "markdown",
      "metadata": {
        "colab_type": "text",
        "id": "FEIE-1s9jNzC"
      },
      "source": [
        "### Initialising the RNN"
      ]
    },
    {
      "cell_type": "code",
      "execution_count": 8,
      "metadata": {
        "colab": {},
        "colab_type": "code",
        "id": "1338dJ0UjRKH"
      },
      "outputs": [],
      "source": [
        "regressor = Sequential()"
      ]
    },
    {
      "cell_type": "markdown",
      "metadata": {
        "colab_type": "text",
        "id": "62eg1OPGjT8z"
      },
      "source": [
        "### Adding the first LSTM layer and some Dropout regularisation"
      ]
    },
    {
      "cell_type": "code",
      "execution_count": 9,
      "metadata": {
        "colab": {},
        "colab_type": "code",
        "id": "2hIinyXUjbVU"
      },
      "outputs": [],
      "source": [
        "regressor.add(LSTM(units=50, return_sequences=True, input_shape=(X_train.shape[1], 1)))\n",
        "regressor.add(Dropout(0.2))"
      ]
    },
    {
      "cell_type": "markdown",
      "metadata": {
        "colab_type": "text",
        "id": "3XBIYLyOjlMx"
      },
      "source": [
        "### Adding a second LSTM layer and some Dropout regularisation"
      ]
    },
    {
      "cell_type": "code",
      "execution_count": 10,
      "metadata": {
        "colab": {},
        "colab_type": "code",
        "id": "UG7nrVaSjuZ2"
      },
      "outputs": [],
      "source": [
        "regressor.add(LSTM(units = 50, return_sequences = True))\n",
        "regressor.add(Dropout(0.2))"
      ]
    },
    {
      "cell_type": "markdown",
      "metadata": {
        "colab_type": "text",
        "id": "Ey3fHVnGj1cu"
      },
      "source": [
        "### Adding a third LSTM layer and some Dropout regularisation"
      ]
    },
    {
      "cell_type": "code",
      "execution_count": 11,
      "metadata": {
        "colab": {},
        "colab_type": "code",
        "id": "PuNi6PgFj7jO"
      },
      "outputs": [],
      "source": [
        "regressor.add(LSTM(units = 50, return_sequences = True))\n",
        "regressor.add(Dropout(0.2))"
      ]
    },
    {
      "cell_type": "code",
      "execution_count": 12,
      "metadata": {},
      "outputs": [],
      "source": [
        "regressor.add(LSTM(units = 50, return_sequences = True))\n",
        "regressor.add(Dropout(0.2))"
      ]
    },
    {
      "cell_type": "markdown",
      "metadata": {
        "colab_type": "text",
        "id": "SYTrtfTmj933"
      },
      "source": [
        "### Adding a fourth LSTM layer and some Dropout regularisation"
      ]
    },
    {
      "cell_type": "code",
      "execution_count": 13,
      "metadata": {
        "colab": {},
        "colab_type": "code",
        "id": "Jp4Ty8fRkBYV"
      },
      "outputs": [],
      "source": [
        "regressor.add(LSTM(units = 50))\n",
        "regressor.add(Dropout(0.2))"
      ]
    },
    {
      "cell_type": "markdown",
      "metadata": {
        "colab_type": "text",
        "id": "9ABI6rOIkHhk"
      },
      "source": [
        "### Adding the output layer"
      ]
    },
    {
      "cell_type": "code",
      "execution_count": 14,
      "metadata": {
        "colab": {},
        "colab_type": "code",
        "id": "aM6R1z4WkME8"
      },
      "outputs": [],
      "source": [
        "regressor.add(Dense(units = 1))"
      ]
    },
    {
      "cell_type": "markdown",
      "metadata": {
        "colab_type": "text",
        "id": "zLx4K7uUkPSh"
      },
      "source": [
        "### Compiling the RNN"
      ]
    },
    {
      "cell_type": "code",
      "execution_count": 15,
      "metadata": {
        "colab": {},
        "colab_type": "code",
        "id": "XTrhVN-tkbko"
      },
      "outputs": [],
      "source": [
        "regressor.compile(optimizer = 'adam', loss = 'mean_squared_error')"
      ]
    },
    {
      "cell_type": "markdown",
      "metadata": {
        "colab_type": "text",
        "id": "-mPhwKGkkebi"
      },
      "source": [
        "### Fitting the RNN to the Training set"
      ]
    },
    {
      "cell_type": "code",
      "execution_count": 16,
      "metadata": {
        "colab": {
          "base_uri": "https://localhost:8080/",
          "height": 1000
        },
        "colab_type": "code",
        "id": "I06Nkrz5kkb-",
        "outputId": "dc9d947a-4d5c-4dbc-ed45-31bf44b98dfb"
      },
      "outputs": [
        {
          "name": "stdout",
          "output_type": "stream",
          "text": [
            "Epoch 1/100\n",
            "142/142 [==============================] - 14s 32ms/step - loss: 0.0409\n",
            "WARNING:tensorflow:Can save best model only with val_loss available, skipping.\n",
            "Epoch 2/100\n",
            "142/142 [==============================] - 4s 28ms/step - loss: 0.0196\n",
            "WARNING:tensorflow:Can save best model only with val_loss available, skipping.\n",
            "Epoch 3/100\n",
            "142/142 [==============================] - 4s 29ms/step - loss: 0.0179\n",
            "WARNING:tensorflow:Can save best model only with val_loss available, skipping.\n",
            "Epoch 4/100\n",
            "142/142 [==============================] - 4s 31ms/step - loss: 0.0143\n",
            "WARNING:tensorflow:Can save best model only with val_loss available, skipping.\n",
            "Epoch 5/100\n",
            "142/142 [==============================] - 4s 30ms/step - loss: 0.0148\n",
            "WARNING:tensorflow:Can save best model only with val_loss available, skipping.\n",
            "Epoch 6/100\n",
            "142/142 [==============================] - 5s 32ms/step - loss: 0.0118\n",
            "WARNING:tensorflow:Can save best model only with val_loss available, skipping.\n",
            "Epoch 7/100\n",
            "142/142 [==============================] - 5s 33ms/step - loss: 0.0115\n",
            "WARNING:tensorflow:Can save best model only with val_loss available, skipping.\n",
            "Epoch 8/100\n",
            "142/142 [==============================] - 4s 30ms/step - loss: 0.0103\n",
            "WARNING:tensorflow:Can save best model only with val_loss available, skipping.\n",
            "Epoch 9/100\n",
            "142/142 [==============================] - 4s 30ms/step - loss: 0.0108\n",
            "WARNING:tensorflow:Can save best model only with val_loss available, skipping.\n",
            "Epoch 10/100\n",
            "142/142 [==============================] - 4s 27ms/step - loss: 0.0084\n",
            "WARNING:tensorflow:Can save best model only with val_loss available, skipping.\n",
            "Epoch 11/100\n",
            "142/142 [==============================] - 4s 28ms/step - loss: 0.0076\n",
            "WARNING:tensorflow:Can save best model only with val_loss available, skipping.\n",
            "Epoch 12/100\n",
            "142/142 [==============================] - 4s 32ms/step - loss: 0.0073\n",
            "WARNING:tensorflow:Can save best model only with val_loss available, skipping.\n",
            "Epoch 13/100\n",
            "142/142 [==============================] - 4s 28ms/step - loss: 0.0075\n",
            "WARNING:tensorflow:Can save best model only with val_loss available, skipping.\n",
            "Epoch 14/100\n",
            "142/142 [==============================] - 4s 27ms/step - loss: 0.0064\n",
            "WARNING:tensorflow:Can save best model only with val_loss available, skipping.\n",
            "Epoch 15/100\n",
            "142/142 [==============================] - 4s 29ms/step - loss: 0.0058\n",
            "WARNING:tensorflow:Can save best model only with val_loss available, skipping.\n",
            "Epoch 16/100\n",
            "142/142 [==============================] - 4s 29ms/step - loss: 0.0071\n",
            "WARNING:tensorflow:Can save best model only with val_loss available, skipping.\n",
            "Epoch 17/100\n",
            "142/142 [==============================] - 4s 30ms/step - loss: 0.0062\n",
            "WARNING:tensorflow:Can save best model only with val_loss available, skipping.\n",
            "Epoch 18/100\n",
            "142/142 [==============================] - 4s 29ms/step - loss: 0.0065\n",
            "WARNING:tensorflow:Can save best model only with val_loss available, skipping.\n",
            "Epoch 19/100\n",
            "142/142 [==============================] - 4s 29ms/step - loss: 0.0065\n",
            "WARNING:tensorflow:Can save best model only with val_loss available, skipping.\n",
            "Epoch 20/100\n",
            "142/142 [==============================] - 4s 28ms/step - loss: 0.0055\n",
            "WARNING:tensorflow:Can save best model only with val_loss available, skipping.\n",
            "Epoch 21/100\n",
            "142/142 [==============================] - 4s 29ms/step - loss: 0.0054\n",
            "WARNING:tensorflow:Can save best model only with val_loss available, skipping.\n",
            "Epoch 22/100\n",
            "142/142 [==============================] - 4s 31ms/step - loss: 0.0056\n",
            "WARNING:tensorflow:Can save best model only with val_loss available, skipping.\n",
            "Epoch 23/100\n",
            "142/142 [==============================] - 4s 31ms/step - loss: 0.0061\n",
            "WARNING:tensorflow:Can save best model only with val_loss available, skipping.\n",
            "Epoch 24/100\n",
            "142/142 [==============================] - 4s 30ms/step - loss: 0.0054\n",
            "WARNING:tensorflow:Can save best model only with val_loss available, skipping.\n",
            "Epoch 25/100\n",
            "142/142 [==============================] - 4s 30ms/step - loss: 0.0052\n",
            "WARNING:tensorflow:Can save best model only with val_loss available, skipping.\n",
            "Epoch 26/100\n",
            "142/142 [==============================] - 4s 27ms/step - loss: 0.0050\n",
            "WARNING:tensorflow:Can save best model only with val_loss available, skipping.\n",
            "Epoch 27/100\n",
            "142/142 [==============================] - 4s 28ms/step - loss: 0.0052\n",
            "WARNING:tensorflow:Can save best model only with val_loss available, skipping.\n",
            "Epoch 28/100\n",
            "142/142 [==============================] - 4s 28ms/step - loss: 0.0047\n",
            "WARNING:tensorflow:Can save best model only with val_loss available, skipping.\n",
            "Epoch 29/100\n",
            "142/142 [==============================] - 4s 28ms/step - loss: 0.0050\n",
            "WARNING:tensorflow:Can save best model only with val_loss available, skipping.\n",
            "Epoch 30/100\n",
            "142/142 [==============================] - 4s 30ms/step - loss: 0.0054\n",
            "WARNING:tensorflow:Can save best model only with val_loss available, skipping.\n",
            "Epoch 31/100\n",
            "142/142 [==============================] - 4s 31ms/step - loss: 0.0052\n",
            "WARNING:tensorflow:Can save best model only with val_loss available, skipping.\n",
            "Epoch 32/100\n",
            "142/142 [==============================] - 4s 30ms/step - loss: 0.0053\n",
            "WARNING:tensorflow:Can save best model only with val_loss available, skipping.\n",
            "Epoch 33/100\n",
            "142/142 [==============================] - 4s 30ms/step - loss: 0.0050\n",
            "WARNING:tensorflow:Can save best model only with val_loss available, skipping.\n",
            "Epoch 34/100\n",
            "142/142 [==============================] - 4s 29ms/step - loss: 0.0048\n",
            "WARNING:tensorflow:Can save best model only with val_loss available, skipping.\n",
            "Epoch 35/100\n",
            "142/142 [==============================] - 4s 30ms/step - loss: 0.0053\n",
            "WARNING:tensorflow:Can save best model only with val_loss available, skipping.\n",
            "Epoch 36/100\n",
            "142/142 [==============================] - 4s 30ms/step - loss: 0.0048\n",
            "WARNING:tensorflow:Can save best model only with val_loss available, skipping.\n",
            "Epoch 37/100\n",
            "142/142 [==============================] - 4s 30ms/step - loss: 0.0043\n",
            "WARNING:tensorflow:Can save best model only with val_loss available, skipping.\n",
            "Epoch 38/100\n",
            "142/142 [==============================] - 4s 29ms/step - loss: 0.0048\n",
            "WARNING:tensorflow:Can save best model only with val_loss available, skipping.\n",
            "Epoch 39/100\n",
            "142/142 [==============================] - 4s 30ms/step - loss: 0.0044\n",
            "WARNING:tensorflow:Can save best model only with val_loss available, skipping.\n",
            "Epoch 40/100\n",
            "142/142 [==============================] - 4s 27ms/step - loss: 0.0050\n",
            "WARNING:tensorflow:Can save best model only with val_loss available, skipping.\n",
            "Epoch 41/100\n",
            "142/142 [==============================] - 4s 26ms/step - loss: 0.0045\n",
            "WARNING:tensorflow:Can save best model only with val_loss available, skipping.\n",
            "Epoch 42/100\n",
            "142/142 [==============================] - 4s 29ms/step - loss: 0.0048\n",
            "WARNING:tensorflow:Can save best model only with val_loss available, skipping.\n",
            "Epoch 43/100\n",
            "142/142 [==============================] - 4s 31ms/step - loss: 0.0051\n",
            "WARNING:tensorflow:Can save best model only with val_loss available, skipping.\n",
            "Epoch 44/100\n",
            "142/142 [==============================] - 4s 30ms/step - loss: 0.0044\n",
            "WARNING:tensorflow:Can save best model only with val_loss available, skipping.\n",
            "Epoch 45/100\n",
            "142/142 [==============================] - 5s 37ms/step - loss: 0.0045\n",
            "WARNING:tensorflow:Can save best model only with val_loss available, skipping.\n",
            "Epoch 46/100\n",
            "142/142 [==============================] - 4s 29ms/step - loss: 0.0043\n",
            "WARNING:tensorflow:Can save best model only with val_loss available, skipping.\n",
            "Epoch 47/100\n",
            "142/142 [==============================] - 4s 30ms/step - loss: 0.0044\n",
            "WARNING:tensorflow:Can save best model only with val_loss available, skipping.\n",
            "Epoch 48/100\n",
            "142/142 [==============================] - 4s 28ms/step - loss: 0.0045\n",
            "WARNING:tensorflow:Can save best model only with val_loss available, skipping.\n",
            "Epoch 49/100\n",
            "142/142 [==============================] - 4s 28ms/step - loss: 0.0046\n",
            "WARNING:tensorflow:Can save best model only with val_loss available, skipping.\n",
            "Epoch 50/100\n",
            "142/142 [==============================] - 4s 29ms/step - loss: 0.0049\n",
            "WARNING:tensorflow:Can save best model only with val_loss available, skipping.\n",
            "Epoch 51/100\n",
            "142/142 [==============================] - 4s 29ms/step - loss: 0.0047\n",
            "WARNING:tensorflow:Can save best model only with val_loss available, skipping.\n",
            "Epoch 52/100\n",
            "142/142 [==============================] - 4s 30ms/step - loss: 0.0047\n",
            "WARNING:tensorflow:Can save best model only with val_loss available, skipping.\n",
            "Epoch 53/100\n",
            "142/142 [==============================] - 4s 27ms/step - loss: 0.0046\n",
            "WARNING:tensorflow:Can save best model only with val_loss available, skipping.\n",
            "Epoch 54/100\n",
            "142/142 [==============================] - 4s 28ms/step - loss: 0.0042\n",
            "WARNING:tensorflow:Can save best model only with val_loss available, skipping.\n",
            "Epoch 55/100\n",
            "142/142 [==============================] - 4s 28ms/step - loss: 0.0041\n",
            "WARNING:tensorflow:Can save best model only with val_loss available, skipping.\n",
            "Epoch 56/100\n",
            "142/142 [==============================] - 4s 27ms/step - loss: 0.0039\n",
            "WARNING:tensorflow:Can save best model only with val_loss available, skipping.\n",
            "Epoch 57/100\n",
            "142/142 [==============================] - 4s 28ms/step - loss: 0.0045\n",
            "WARNING:tensorflow:Can save best model only with val_loss available, skipping.\n",
            "Epoch 58/100\n",
            "142/142 [==============================] - 4s 30ms/step - loss: 0.0045\n",
            "WARNING:tensorflow:Can save best model only with val_loss available, skipping.\n",
            "Epoch 59/100\n",
            "142/142 [==============================] - 4s 29ms/step - loss: 0.0047\n",
            "WARNING:tensorflow:Can save best model only with val_loss available, skipping.\n",
            "Epoch 60/100\n",
            "142/142 [==============================] - 4s 28ms/step - loss: 0.0044\n",
            "WARNING:tensorflow:Can save best model only with val_loss available, skipping.\n",
            "Epoch 61/100\n",
            "142/142 [==============================] - 4s 28ms/step - loss: 0.0042\n",
            "WARNING:tensorflow:Can save best model only with val_loss available, skipping.\n",
            "Epoch 62/100\n",
            "142/142 [==============================] - 4s 27ms/step - loss: 0.0041\n",
            "WARNING:tensorflow:Can save best model only with val_loss available, skipping.\n",
            "Epoch 63/100\n",
            "142/142 [==============================] - 4s 28ms/step - loss: 0.0039\n",
            "WARNING:tensorflow:Can save best model only with val_loss available, skipping.\n",
            "Epoch 64/100\n",
            "142/142 [==============================] - 4s 30ms/step - loss: 0.0040\n",
            "WARNING:tensorflow:Can save best model only with val_loss available, skipping.\n",
            "Epoch 65/100\n",
            "142/142 [==============================] - 4s 29ms/step - loss: 0.0039\n",
            "WARNING:tensorflow:Can save best model only with val_loss available, skipping.\n",
            "Epoch 66/100\n",
            "142/142 [==============================] - 4s 28ms/step - loss: 0.0042\n",
            "WARNING:tensorflow:Can save best model only with val_loss available, skipping.\n",
            "Epoch 67/100\n",
            "142/142 [==============================] - 4s 29ms/step - loss: 0.0043\n",
            "WARNING:tensorflow:Can save best model only with val_loss available, skipping.\n",
            "Epoch 68/100\n",
            "142/142 [==============================] - 4s 28ms/step - loss: 0.0042\n",
            "WARNING:tensorflow:Can save best model only with val_loss available, skipping.\n",
            "Epoch 69/100\n",
            "142/142 [==============================] - 4s 28ms/step - loss: 0.0040\n",
            "WARNING:tensorflow:Can save best model only with val_loss available, skipping.\n",
            "Epoch 70/100\n",
            "142/142 [==============================] - 4s 30ms/step - loss: 0.0041\n",
            "WARNING:tensorflow:Can save best model only with val_loss available, skipping.\n",
            "Epoch 71/100\n",
            "142/142 [==============================] - 4s 31ms/step - loss: 0.0040\n",
            "WARNING:tensorflow:Can save best model only with val_loss available, skipping.\n",
            "Epoch 72/100\n",
            "142/142 [==============================] - 4s 30ms/step - loss: 0.0037\n",
            "WARNING:tensorflow:Can save best model only with val_loss available, skipping.\n",
            "Epoch 73/100\n",
            "142/142 [==============================] - 4s 31ms/step - loss: 0.0037\n",
            "WARNING:tensorflow:Can save best model only with val_loss available, skipping.\n",
            "Epoch 74/100\n",
            "142/142 [==============================] - 4s 30ms/step - loss: 0.0043\n",
            "WARNING:tensorflow:Can save best model only with val_loss available, skipping.\n",
            "Epoch 75/100\n",
            "142/142 [==============================] - 4s 28ms/step - loss: 0.0040\n",
            "WARNING:tensorflow:Can save best model only with val_loss available, skipping.\n",
            "Epoch 76/100\n",
            "142/142 [==============================] - 4s 29ms/step - loss: 0.0041\n",
            "WARNING:tensorflow:Can save best model only with val_loss available, skipping.\n",
            "Epoch 77/100\n",
            "142/142 [==============================] - 4s 29ms/step - loss: 0.0044\n",
            "WARNING:tensorflow:Can save best model only with val_loss available, skipping.\n",
            "Epoch 78/100\n",
            "142/142 [==============================] - 4s 29ms/step - loss: 0.0041\n",
            "WARNING:tensorflow:Can save best model only with val_loss available, skipping.\n",
            "Epoch 79/100\n",
            "142/142 [==============================] - 4s 29ms/step - loss: 0.0042\n",
            "WARNING:tensorflow:Can save best model only with val_loss available, skipping.\n",
            "Epoch 80/100\n",
            "142/142 [==============================] - 4s 28ms/step - loss: 0.0043\n",
            "WARNING:tensorflow:Can save best model only with val_loss available, skipping.\n",
            "Epoch 81/100\n",
            "142/142 [==============================] - 4s 27ms/step - loss: 0.0041\n",
            "WARNING:tensorflow:Can save best model only with val_loss available, skipping.\n",
            "Epoch 82/100\n",
            "142/142 [==============================] - 4s 30ms/step - loss: 0.0038\n",
            "WARNING:tensorflow:Can save best model only with val_loss available, skipping.\n",
            "Epoch 83/100\n",
            "142/142 [==============================] - 4s 28ms/step - loss: 0.0042\n",
            "WARNING:tensorflow:Can save best model only with val_loss available, skipping.\n",
            "Epoch 84/100\n",
            "142/142 [==============================] - 4s 27ms/step - loss: 0.0040\n",
            "WARNING:tensorflow:Can save best model only with val_loss available, skipping.\n",
            "Epoch 85/100\n",
            "142/142 [==============================] - 4s 27ms/step - loss: 0.0038\n",
            "WARNING:tensorflow:Can save best model only with val_loss available, skipping.\n",
            "Epoch 86/100\n",
            "142/142 [==============================] - 4s 29ms/step - loss: 0.0040\n",
            "WARNING:tensorflow:Can save best model only with val_loss available, skipping.\n",
            "Epoch 87/100\n",
            "142/142 [==============================] - 4s 29ms/step - loss: 0.0039\n",
            "WARNING:tensorflow:Can save best model only with val_loss available, skipping.\n",
            "Epoch 88/100\n",
            "142/142 [==============================] - 4s 29ms/step - loss: 0.0040\n",
            "WARNING:tensorflow:Can save best model only with val_loss available, skipping.\n",
            "Epoch 89/100\n",
            "142/142 [==============================] - 4s 30ms/step - loss: 0.0037\n",
            "WARNING:tensorflow:Can save best model only with val_loss available, skipping.\n",
            "Epoch 90/100\n",
            "142/142 [==============================] - 4s 29ms/step - loss: 0.0039\n",
            "WARNING:tensorflow:Can save best model only with val_loss available, skipping.\n",
            "Epoch 91/100\n",
            "142/142 [==============================] - 4s 29ms/step - loss: 0.0038\n",
            "WARNING:tensorflow:Can save best model only with val_loss available, skipping.\n",
            "Epoch 92/100\n",
            "142/142 [==============================] - 4s 30ms/step - loss: 0.0038\n",
            "WARNING:tensorflow:Can save best model only with val_loss available, skipping.\n",
            "Epoch 93/100\n",
            "142/142 [==============================] - 4s 29ms/step - loss: 0.0040\n",
            "WARNING:tensorflow:Can save best model only with val_loss available, skipping.\n",
            "Epoch 94/100\n",
            "142/142 [==============================] - 4s 28ms/step - loss: 0.0039\n",
            "WARNING:tensorflow:Can save best model only with val_loss available, skipping.\n",
            "Epoch 95/100\n",
            "142/142 [==============================] - 4s 30ms/step - loss: 0.0039\n",
            "WARNING:tensorflow:Can save best model only with val_loss available, skipping.\n",
            "Epoch 96/100\n",
            "142/142 [==============================] - 4s 28ms/step - loss: 0.0038\n",
            "WARNING:tensorflow:Can save best model only with val_loss available, skipping.\n",
            "Epoch 97/100\n",
            "142/142 [==============================] - 4s 28ms/step - loss: 0.0038\n",
            "WARNING:tensorflow:Can save best model only with val_loss available, skipping.\n",
            "Epoch 98/100\n",
            "142/142 [==============================] - 4s 30ms/step - loss: 0.0040\n",
            "WARNING:tensorflow:Can save best model only with val_loss available, skipping.\n",
            "Epoch 99/100\n",
            "142/142 [==============================] - 4s 29ms/step - loss: 0.0041\n",
            "WARNING:tensorflow:Can save best model only with val_loss available, skipping.\n",
            "Epoch 100/100\n",
            "142/142 [==============================] - 4s 28ms/step - loss: 0.0039\n",
            "WARNING:tensorflow:Can save best model only with val_loss available, skipping.\n"
          ]
        }
      ],
      "source": [
        "model_file_last = \"model_last.h5\"\n",
        "model_file_best = \"model_best.h5\"\n",
        "\n",
        "# create a checkpoint for the best model\n",
        "checkpoint_best = ModelCheckpoint(model_file_best, save_weights_only=False, save_best_only=True, mode='min', monitor='val_loss')\n",
        "\n",
        "# create a checkpoint for the last model\n",
        "checkpoint_last = ModelCheckpoint(model_file_last, save_weights_only=False, save_best_only=False)\n",
        "\n",
        "# load the last model if it exists\n",
        "if os.path.isfile(model_file_last):\n",
        "    regressor.load_weights(model_file_last)\n",
        "\n",
        "# train the model with checkpoint\n",
        "regressor.fit(X_train, y_train, epochs=100, batch_size=4, callbacks=[checkpoint_last, checkpoint_best])\n",
        "\n",
        "# load the best model if it exists and is better than the last model\n",
        "if os.path.isfile(model_file_best):\n",
        "    regressor.load_weights(model_file_best)\n"
      ]
    },
    {
      "cell_type": "markdown",
      "metadata": {
        "colab_type": "text",
        "id": "4hRau_lIkrE8"
      },
      "source": [
        "## Part 3 - Making the predictions and visualising the results"
      ]
    },
    {
      "attachments": {},
      "cell_type": "markdown",
      "metadata": {
        "colab_type": "text",
        "id": "SgJO6qEDksxD"
      },
      "source": [
        "### Getting the real Houst "
      ]
    },
    {
      "cell_type": "code",
      "execution_count": 17,
      "metadata": {
        "colab": {},
        "colab_type": "code",
        "id": "FmBT2zqukxTz"
      },
      "outputs": [],
      "source": [
        "real_houst_data = dataset_test.iloc[:, 1:2].values"
      ]
    },
    {
      "cell_type": "markdown",
      "metadata": {
        "colab_type": "text",
        "id": "GrvrLblxkz42"
      },
      "source": [
        "### Getting the predicted stock price of 2017"
      ]
    },
    {
      "cell_type": "code",
      "execution_count": 18,
      "metadata": {
        "colab": {},
        "colab_type": "code",
        "id": "emikTvUpk3Ck"
      },
      "outputs": [],
      "source": [
        "dataset_total = pd.concat((dataset_train['HOUST'], dataset_test['HOUST']), axis = 0)\n",
        "inputs = dataset_total[len(dataset_total) - len(dataset_test) - 50:].values\n",
        "inputs = inputs.reshape(-1,1)\n",
        "inputs = sc.transform(inputs)\n",
        "X_test = []\n",
        "for i in range(50, 122):\n",
        "    X_test.append(inputs[i-50:i, 0])\n",
        "X_test = np.array(X_test)\n",
        "X_test = np.reshape(X_test, (X_test.shape[0], X_test.shape[1], 1))\n",
        "predicted = regressor.predict(X_test)\n",
        "predicted = sc.inverse_transform(predicted)"
      ]
    },
    {
      "cell_type": "markdown",
      "metadata": {
        "colab_type": "text",
        "id": "iFTNs3YHk6FQ"
      },
      "source": [
        "### Visualising the results"
      ]
    },
    {
      "cell_type": "code",
      "execution_count": null,
      "metadata": {
        "colab": {
          "base_uri": "https://localhost:8080/",
          "height": 295
        },
        "colab_type": "code",
        "id": "8OUI8U49k9tH",
        "outputId": "db0ed15e-071b-4bae-955e-0eda3df95238"
      },
      "outputs": [],
      "source": [
        "plt.plot(real_houst_data, color = 'red', label = 'Real HOust')\n",
        "plt.plot(predicted, color = 'blue', label = 'Predicted Houst')\n",
        "plt.title('HOUST Prediction')\n",
        "plt.xlabel('Date')\n",
        "plt.ylabel('HOUST')\n",
        "plt.legend()\n",
        "plt.show()"
      ]
    },
    {
      "cell_type": "code",
      "execution_count": 20,
      "metadata": {},
      "outputs": [],
      "source": [
        "# save predicted values\n",
        "predicted_df = pd.DataFrame(predicted)"
      ]
    },
    {
      "cell_type": "code",
      "execution_count": 21,
      "metadata": {},
      "outputs": [
        {
          "data": {
            "text/html": [
              "<div>\n",
              "<style scoped>\n",
              "    .dataframe tbody tr th:only-of-type {\n",
              "        vertical-align: middle;\n",
              "    }\n",
              "\n",
              "    .dataframe tbody tr th {\n",
              "        vertical-align: top;\n",
              "    }\n",
              "\n",
              "    .dataframe thead th {\n",
              "        text-align: right;\n",
              "    }\n",
              "</style>\n",
              "<table border=\"1\" class=\"dataframe\">\n",
              "  <thead>\n",
              "    <tr style=\"text-align: right;\">\n",
              "      <th></th>\n",
              "      <th>0</th>\n",
              "    </tr>\n",
              "  </thead>\n",
              "  <tbody>\n",
              "    <tr>\n",
              "      <th>0</th>\n",
              "      <td>1219</td>\n",
              "    </tr>\n",
              "    <tr>\n",
              "      <th>1</th>\n",
              "      <td>1135</td>\n",
              "    </tr>\n",
              "    <tr>\n",
              "      <th>2</th>\n",
              "      <td>1251</td>\n",
              "    </tr>\n",
              "    <tr>\n",
              "      <th>3</th>\n",
              "      <td>1176</td>\n",
              "    </tr>\n",
              "    <tr>\n",
              "      <th>4</th>\n",
              "      <td>1231</td>\n",
              "    </tr>\n",
              "  </tbody>\n",
              "</table>\n",
              "</div>"
            ],
            "text/plain": [
              "      0\n",
              "0  1219\n",
              "1  1135\n",
              "2  1251\n",
              "3  1176\n",
              "4  1231"
            ]
          },
          "execution_count": 21,
          "metadata": {},
          "output_type": "execute_result"
        }
      ],
      "source": [
        "#convertt all value on predicted_df to int\n",
        "predicted_df = predicted_df.astype(int)\n",
        "predicted_df.head()"
      ]
    },
    {
      "cell_type": "code",
      "execution_count": 22,
      "metadata": {},
      "outputs": [
        {
          "data": {
            "image/png": "[encoded data removed]",
            "text/plain": [
              "<Figure size 640x480 with 1 Axes>"
            ]
          },
          "metadata": {},
          "output_type": "display_data"
        }
      ],
      "source": [
        "plt.plot(real_houst_data, color = 'red', label = 'Real HOust')\n",
        "plt.plot(predicted_df, color = 'blue', label = 'Predicted Houst')\n",
        "plt.title('HOUST Prediction')\n",
        "plt.xlabel('Date')\n",
        "plt.ylabel('HOUST')\n",
        "plt.legend()\n",
        "plt.show()"
      ]
    },
    {
      "cell_type": "code",
      "execution_count": 23,
      "metadata": {},
      "outputs": [],
      "source": [
        "##regressor.save('model5.h5')"
      ]
    }
  ],
  "metadata": {
    "colab": {
      "collapsed_sections": [],
      "name": "recurrent_neural_network.ipynb",
      "provenance": []
    },
    "kernelspec": {
      "display_name": "base",
      "language": "python",
      "name": "python3"
    },
    "language_info": {
      "codemirror_mode": {
        "name": "ipython",
        "version": 3
      },
      "file_extension": ".py",
      "mimetype": "text/x-python",
      "name": "python",
      "nbconvert_exporter": "python",
      "pygments_lexer": "ipython3",
      "version": "3.9.13"
    },
    "vscode": {
      "interpreter": {
        "hash": "ad2bdc8ecc057115af97d19610ffacc2b4e99fae6737bb82f5d7fb13d2f2c186"
      }
    }
  },
  "nbformat": 4,
  "nbformat_minor": 0
}
