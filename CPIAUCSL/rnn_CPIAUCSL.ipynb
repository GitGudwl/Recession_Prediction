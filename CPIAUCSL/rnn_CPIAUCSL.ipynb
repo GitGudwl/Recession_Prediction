{
  "cells": [
    {
      "cell_type": "markdown",
      "metadata": {
        "colab_type": "text",
        "id": "xpAuMVCwfWs8"
      },
      "source": [
        "# Recurrent Neural Network"
      ]
    },
    {
      "attachments": {},
      "cell_type": "markdown",
      "metadata": {
        "colab_type": "text",
        "id": "nxJfRe4bfYVA"
      },
      "source": [
        "## Data Preprocessing"
      ]
    },
    {
      "cell_type": "markdown",
      "metadata": {
        "colab_type": "text",
        "id": "ir9zwETrfbrp"
      },
      "source": [
        "### Importing the libraries"
      ]
    },
    {
      "cell_type": "code",
      "execution_count": 1,
      "metadata": {
        "colab": {},
        "colab_type": "code",
        "id": "ZT1f24vHffuf"
      },
      "outputs": [],
      "source": [
        "import numpy as np\n",
        "import matplotlib.pyplot as plt\n",
        "import pandas as pd\n",
        "from sklearn.model_selection import train_test_split"
      ]
    },
    {
      "cell_type": "markdown",
      "metadata": {
        "colab_type": "text",
        "id": "nQ47JAxrgmaL"
      },
      "source": [
        "### Importing the training set"
      ]
    },
    {
      "cell_type": "code",
      "execution_count": 2,
      "metadata": {
        "colab": {},
        "colab_type": "code",
        "id": "1xiv3pJOgqY3"
      },
      "outputs": [],
      "source": [
        "df = pd.read_csv('CPIAUCSL.csv')\n",
        "# split data into training and testing sets\n",
        "dataset_train, dataset_test = train_test_split(df, test_size=0.2, shuffle=False)\n",
        "training_set = dataset_train.iloc[:, 1:2].values"
      ]
    },
    {
      "cell_type": "code",
      "execution_count": 3,
      "metadata": {},
      "outputs": [
        {
          "data": {
            "text/plain": [
              "\" \\ndef remove_outliers_zscore(data):\\n    threshold = 3\\n    mean = np.mean(data)\\n    std = np.std(data)\\n    z_scores = [(x - mean) / std for x in data]\\n    return data[(np.abs(z_scores) < threshold)]\\n\\n# apply the function to the column of data containing outliers\\ndataset_test2 = remove_outliers_zscore(dataset_test['CPIAUCSL'])\\n\\nplt.plot(dataset_test2)\""
            ]
          },
          "execution_count": 3,
          "metadata": {},
          "output_type": "execute_result"
        }
      ],
      "source": [
        "\"\"\" \n",
        "def remove_outliers_zscore(data):\n",
        "    threshold = 3\n",
        "    mean = np.mean(data)\n",
        "    std = np.std(data)\n",
        "    z_scores = [(x - mean) / std for x in data]\n",
        "    return data[(np.abs(z_scores) < threshold)]\n",
        "\n",
        "# apply the function to the column of data containing outliers\n",
        "dataset_test2 = remove_outliers_zscore(dataset_test['CPIAUCSL'])\n",
        "\n",
        "plt.plot(dataset_test2)\"\"\""
      ]
    },
    {
      "cell_type": "markdown",
      "metadata": {
        "colab_type": "text",
        "id": "HT8_2UJegtG5"
      },
      "source": [
        "### Feature Scaling"
      ]
    },
    {
      "cell_type": "code",
      "execution_count": 4,
      "metadata": {
        "colab": {},
        "colab_type": "code",
        "id": "OTrF2kR7gx9x"
      },
      "outputs": [],
      "source": [
        "from sklearn.preprocessing import MinMaxScaler\n",
        "sc = MinMaxScaler(feature_range = (0, 1))\n",
        "training_set_scaled = sc.fit_transform(training_set)"
      ]
    },
    {
      "attachments": {},
      "cell_type": "markdown",
      "metadata": {
        "colab_type": "text",
        "id": "JyYgYocqhNUg"
      },
      "source": [
        "### Creating a data structure with certain timesteps and 1 output"
      ]
    },
    {
      "cell_type": "code",
      "execution_count": 5,
      "metadata": {
        "colab": {},
        "colab_type": "code",
        "id": "iofU21B0i6ST"
      },
      "outputs": [],
      "source": [
        "timestep = 36\n",
        "X_train = []\n",
        "y_train = []\n",
        "\n",
        "for i in range(timestep, len(training_set_scaled)):\n",
        "    X_train.append(training_set_scaled[i-timestep:i, 0])\n",
        "    y_train.append(training_set_scaled[i, 0])\n",
        "X_train, y_train = np.array(X_train), np.array(y_train)\n",
        "\n"
      ]
    },
    {
      "cell_type": "markdown",
      "metadata": {
        "colab_type": "text",
        "id": "D8yaN7Zvi95l"
      },
      "source": [
        "### Reshaping"
      ]
    },
    {
      "cell_type": "code",
      "execution_count": 6,
      "metadata": {
        "colab": {},
        "colab_type": "code",
        "id": "FOXqJHmNjBkz"
      },
      "outputs": [],
      "source": [
        "X_train = np.reshape(X_train, (X_train.shape[0], X_train.shape[1], 1))"
      ]
    },
    {
      "attachments": {},
      "cell_type": "markdown",
      "metadata": {
        "colab_type": "text",
        "id": "ZRRSOJeVjEWV"
      },
      "source": [
        "## Building and Training the RNN"
      ]
    },
    {
      "cell_type": "markdown",
      "metadata": {
        "colab_type": "text",
        "id": "k4XV88JMjHXG"
      },
      "source": [
        "### Importing the Keras libraries and packages"
      ]
    },
    {
      "cell_type": "code",
      "execution_count": 7,
      "metadata": {
        "colab": {
          "base_uri": "https://localhost:8080/",
          "height": 34
        },
        "colab_type": "code",
        "id": "9JRnqsxEjKsD",
        "outputId": "b3e23e78-18aa-4396-c923-c877b8de60e4"
      },
      "outputs": [],
      "source": [
        "from tensorflow.keras.models import Sequential\n",
        "from tensorflow.keras.layers import Dense, LSTM, Dropout\n",
        "from keras.callbacks import ModelCheckpoint\n",
        "import os"
      ]
    },
    {
      "cell_type": "markdown",
      "metadata": {
        "colab_type": "text",
        "id": "FEIE-1s9jNzC"
      },
      "source": [
        "### Initialising the RNN"
      ]
    },
    {
      "cell_type": "code",
      "execution_count": 8,
      "metadata": {
        "colab": {},
        "colab_type": "code",
        "id": "1338dJ0UjRKH"
      },
      "outputs": [],
      "source": [
        "regressor = Sequential()"
      ]
    },
    {
      "cell_type": "markdown",
      "metadata": {
        "colab_type": "text",
        "id": "62eg1OPGjT8z"
      },
      "source": [
        "### Adding the first LSTM layer and some Dropout regularisation"
      ]
    },
    {
      "cell_type": "code",
      "execution_count": 9,
      "metadata": {
        "colab": {},
        "colab_type": "code",
        "id": "2hIinyXUjbVU"
      },
      "outputs": [],
      "source": [
        "regressor.add(LSTM(units=50, return_sequences=True, input_shape=(X_train.shape[1], 1)))"
      ]
    },
    {
      "cell_type": "markdown",
      "metadata": {
        "colab_type": "text",
        "id": "3XBIYLyOjlMx"
      },
      "source": [
        "### Adding a second LSTM layer and some Dropout regularisation"
      ]
    },
    {
      "cell_type": "code",
      "execution_count": 10,
      "metadata": {
        "colab": {},
        "colab_type": "code",
        "id": "UG7nrVaSjuZ2"
      },
      "outputs": [],
      "source": [
        "regressor.add(LSTM(units = 50, return_sequences = True))"
      ]
    },
    {
      "cell_type": "markdown",
      "metadata": {
        "colab_type": "text",
        "id": "Ey3fHVnGj1cu"
      },
      "source": [
        "### Adding a third LSTM layer and some Dropout regularisation"
      ]
    },
    {
      "cell_type": "code",
      "execution_count": 11,
      "metadata": {},
      "outputs": [],
      "source": [
        "regressor.add(LSTM(units = 50, return_sequences = True))"
      ]
    },
    {
      "cell_type": "markdown",
      "metadata": {
        "colab_type": "text",
        "id": "SYTrtfTmj933"
      },
      "source": [
        "### Adding a fourth LSTM layer and some Dropout regularisation"
      ]
    },
    {
      "cell_type": "code",
      "execution_count": 12,
      "metadata": {
        "colab": {},
        "colab_type": "code",
        "id": "Jp4Ty8fRkBYV"
      },
      "outputs": [],
      "source": [
        "regressor.add(LSTM(units = 50))"
      ]
    },
    {
      "cell_type": "markdown",
      "metadata": {
        "colab_type": "text",
        "id": "9ABI6rOIkHhk"
      },
      "source": [
        "### Adding the output layer"
      ]
    },
    {
      "cell_type": "code",
      "execution_count": 13,
      "metadata": {
        "colab": {},
        "colab_type": "code",
        "id": "aM6R1z4WkME8"
      },
      "outputs": [],
      "source": [
        "regressor.add(Dense(units = 1))"
      ]
    },
    {
      "cell_type": "markdown",
      "metadata": {
        "colab_type": "text",
        "id": "zLx4K7uUkPSh"
      },
      "source": [
        "### Compiling the RNN"
      ]
    },
    {
      "cell_type": "code",
      "execution_count": 31,
      "metadata": {
        "colab": {},
        "colab_type": "code",
        "id": "XTrhVN-tkbko"
      },
      "outputs": [],
      "source": [
        "regressor.compile(optimizer = 'adam', loss = 'mean_squared_error')"
      ]
    },
    {
      "cell_type": "markdown",
      "metadata": {
        "colab_type": "text",
        "id": "-mPhwKGkkebi"
      },
      "source": [
        "### Fitting the RNN to the Training set"
      ]
    },
    {
      "cell_type": "code",
      "execution_count": 52,
      "metadata": {
        "colab": {
          "base_uri": "https://localhost:8080/",
          "height": 1000
        },
        "colab_type": "code",
        "id": "I06Nkrz5kkb-",
        "outputId": "dc9d947a-4d5c-4dbc-ed45-31bf44b98dfb"
      },
      "outputs": [
        {
          "name": "stdout",
          "output_type": "stream",
          "text": [
            "Epoch 1/300\n",
            "22/22 [==============================] - 1s 50ms/step - loss: 2.6967e-05\n",
            "Epoch 2/300\n",
            "22/22 [==============================] - 1s 48ms/step - loss: 3.0420e-05\n",
            "Epoch 3/300\n",
            "22/22 [==============================] - 1s 45ms/step - loss: 1.7822e-05\n",
            "Epoch 4/300\n",
            "22/22 [==============================] - 1s 45ms/step - loss: 1.1593e-05\n",
            "Epoch 5/300\n",
            "22/22 [==============================] - 1s 31ms/step - loss: 1.4398e-05\n",
            "Epoch 6/300\n",
            "22/22 [==============================] - 1s 32ms/step - loss: 1.0750e-05\n",
            "Epoch 7/300\n",
            "22/22 [==============================] - 1s 31ms/step - loss: 1.0424e-05\n",
            "Epoch 8/300\n",
            "22/22 [==============================] - 1s 37ms/step - loss: 1.0069e-05\n",
            "Epoch 9/300\n",
            "22/22 [==============================] - 1s 35ms/step - loss: 1.4994e-05\n",
            "Epoch 10/300\n",
            "22/22 [==============================] - 1s 29ms/step - loss: 3.8409e-05\n",
            "Epoch 11/300\n",
            "22/22 [==============================] - 1s 31ms/step - loss: 7.5165e-05\n",
            "Epoch 12/300\n",
            "22/22 [==============================] - 1s 33ms/step - loss: 4.7713e-05\n",
            "Epoch 13/300\n",
            "22/22 [==============================] - 1s 46ms/step - loss: 4.9608e-05\n",
            "Epoch 14/300\n",
            "22/22 [==============================] - 1s 68ms/step - loss: 1.9091e-05\n",
            "Epoch 15/300\n",
            "22/22 [==============================] - 1s 55ms/step - loss: 2.5135e-05\n",
            "Epoch 16/300\n",
            "22/22 [==============================] - 1s 43ms/step - loss: 3.2371e-05\n",
            "Epoch 17/300\n",
            "22/22 [==============================] - 1s 30ms/step - loss: 2.6051e-05\n",
            "Epoch 18/300\n",
            "22/22 [==============================] - 1s 36ms/step - loss: 2.3948e-05\n",
            "Epoch 19/300\n",
            "22/22 [==============================] - 1s 35ms/step - loss: 1.5744e-05\n",
            "Epoch 20/300\n",
            "22/22 [==============================] - 1s 42ms/step - loss: 1.1451e-05\n",
            "Epoch 21/300\n",
            "22/22 [==============================] - 1s 46ms/step - loss: 1.6538e-05\n",
            "Epoch 22/300\n",
            "22/22 [==============================] - 1s 46ms/step - loss: 2.2952e-05\n",
            "Epoch 23/300\n",
            "22/22 [==============================] - 1s 40ms/step - loss: 1.2243e-05\n",
            "Epoch 24/300\n",
            "22/22 [==============================] - 1s 38ms/step - loss: 1.0464e-05\n",
            "Epoch 25/300\n",
            "22/22 [==============================] - 1s 40ms/step - loss: 8.9817e-05\n",
            "Epoch 26/300\n",
            "22/22 [==============================] - 1s 66ms/step - loss: 9.9449e-05\n",
            "Epoch 27/300\n",
            "22/22 [==============================] - 1s 44ms/step - loss: 1.4334e-05\n",
            "Epoch 28/300\n",
            "22/22 [==============================] - 1s 42ms/step - loss: 1.5222e-05\n",
            "Epoch 29/300\n",
            "22/22 [==============================] - 1s 32ms/step - loss: 1.4239e-05\n",
            "Epoch 30/300\n",
            "22/22 [==============================] - 1s 30ms/step - loss: 1.8048e-05\n",
            "Epoch 31/300\n",
            "22/22 [==============================] - 1s 26ms/step - loss: 2.2597e-05\n",
            "Epoch 32/300\n",
            "22/22 [==============================] - 1s 35ms/step - loss: 3.8495e-05\n",
            "Epoch 33/300\n",
            "22/22 [==============================] - 1s 59ms/step - loss: 1.3560e-05\n",
            "Epoch 34/300\n",
            "22/22 [==============================] - 1s 44ms/step - loss: 1.8352e-05\n",
            "Epoch 35/300\n",
            "22/22 [==============================] - 1s 37ms/step - loss: 3.1663e-05\n",
            "Epoch 36/300\n",
            "22/22 [==============================] - 1s 37ms/step - loss: 5.2641e-05\n",
            "Epoch 37/300\n",
            "22/22 [==============================] - 1s 45ms/step - loss: 2.8797e-05\n",
            "Epoch 38/300\n",
            "22/22 [==============================] - 1s 40ms/step - loss: 1.4495e-04\n",
            "Epoch 39/300\n",
            "22/22 [==============================] - 1s 42ms/step - loss: 4.1181e-04\n",
            "Epoch 40/300\n",
            "22/22 [==============================] - 1s 41ms/step - loss: 3.9872e-04\n",
            "Epoch 41/300\n",
            "22/22 [==============================] - 1s 54ms/step - loss: 1.7751e-04\n",
            "Epoch 42/300\n",
            "22/22 [==============================] - 1s 42ms/step - loss: 3.1577e-05\n",
            "Epoch 43/300\n",
            "22/22 [==============================] - 1s 48ms/step - loss: 1.7161e-05\n",
            "Epoch 44/300\n",
            "22/22 [==============================] - 1s 43ms/step - loss: 1.6996e-05\n",
            "Epoch 45/300\n",
            "22/22 [==============================] - 1s 28ms/step - loss: 1.2979e-05\n",
            "Epoch 46/300\n",
            "22/22 [==============================] - 1s 31ms/step - loss: 1.4736e-05\n",
            "Epoch 47/300\n",
            "22/22 [==============================] - 1s 29ms/step - loss: 1.2330e-05\n",
            "Epoch 48/300\n",
            "22/22 [==============================] - 1s 39ms/step - loss: 1.1737e-05\n",
            "Epoch 49/300\n",
            "22/22 [==============================] - 1s 36ms/step - loss: 1.7050e-05\n",
            "Epoch 50/300\n",
            "22/22 [==============================] - 1s 34ms/step - loss: 4.0926e-05\n",
            "Epoch 51/300\n",
            "22/22 [==============================] - 1s 39ms/step - loss: 1.9364e-05\n",
            "Epoch 52/300\n",
            "22/22 [==============================] - 1s 33ms/step - loss: 2.3052e-05\n",
            "Epoch 53/300\n",
            "22/22 [==============================] - 1s 39ms/step - loss: 1.7331e-05\n",
            "Epoch 54/300\n",
            "22/22 [==============================] - 1s 29ms/step - loss: 1.0486e-05\n",
            "Epoch 55/300\n",
            "22/22 [==============================] - 1s 24ms/step - loss: 1.0275e-05\n",
            "Epoch 56/300\n",
            "22/22 [==============================] - 1s 29ms/step - loss: 1.6532e-05\n",
            "Epoch 57/300\n",
            "22/22 [==============================] - 1s 30ms/step - loss: 4.6995e-05\n",
            "Epoch 58/300\n",
            "22/22 [==============================] - 1s 28ms/step - loss: 8.4722e-05\n",
            "Epoch 59/300\n",
            "22/22 [==============================] - 1s 33ms/step - loss: 5.1289e-05\n",
            "Epoch 60/300\n",
            "22/22 [==============================] - 1s 31ms/step - loss: 2.7798e-05\n",
            "Epoch 61/300\n",
            "22/22 [==============================] - 1s 31ms/step - loss: 2.2776e-05\n",
            "Epoch 62/300\n",
            "22/22 [==============================] - 1s 30ms/step - loss: 2.2213e-05\n",
            "Epoch 63/300\n",
            "22/22 [==============================] - 1s 32ms/step - loss: 1.9504e-05\n",
            "Epoch 64/300\n",
            "22/22 [==============================] - 1s 29ms/step - loss: 1.4017e-05\n",
            "Epoch 65/300\n",
            "22/22 [==============================] - 1s 27ms/step - loss: 1.9129e-05\n",
            "Epoch 66/300\n",
            "22/22 [==============================] - 1s 29ms/step - loss: 9.4331e-06\n",
            "Epoch 67/300\n",
            "22/22 [==============================] - 1s 32ms/step - loss: 2.2212e-05\n",
            "Epoch 68/300\n",
            "22/22 [==============================] - 2s 75ms/step - loss: 2.6610e-05\n",
            "Epoch 69/300\n",
            "22/22 [==============================] - 1s 43ms/step - loss: 1.3377e-05\n",
            "Epoch 70/300\n",
            "22/22 [==============================] - 1s 47ms/step - loss: 1.2651e-05\n",
            "Epoch 71/300\n",
            "22/22 [==============================] - 1s 45ms/step - loss: 2.0986e-05\n",
            "Epoch 72/300\n",
            "22/22 [==============================] - 1s 42ms/step - loss: 1.4420e-05\n",
            "Epoch 73/300\n",
            "22/22 [==============================] - 1s 37ms/step - loss: 1.2057e-05\n",
            "Epoch 74/300\n",
            "22/22 [==============================] - 1s 36ms/step - loss: 1.0677e-05\n",
            "Epoch 75/300\n",
            "22/22 [==============================] - 1s 37ms/step - loss: 1.9775e-05\n",
            "Epoch 76/300\n",
            "22/22 [==============================] - 1s 38ms/step - loss: 2.5487e-05\n",
            "Epoch 77/300\n",
            "22/22 [==============================] - 1s 46ms/step - loss: 2.6003e-05\n",
            "Epoch 78/300\n",
            "22/22 [==============================] - 1s 38ms/step - loss: 1.2911e-05\n",
            "Epoch 79/300\n",
            "22/22 [==============================] - 1s 36ms/step - loss: 1.5388e-05\n",
            "Epoch 80/300\n",
            "22/22 [==============================] - 1s 38ms/step - loss: 1.0596e-05\n",
            "Epoch 81/300\n",
            "22/22 [==============================] - 1s 41ms/step - loss: 1.5987e-05\n",
            "Epoch 82/300\n",
            "22/22 [==============================] - 1s 39ms/step - loss: 1.5311e-05\n",
            "Epoch 83/300\n",
            "22/22 [==============================] - 1s 39ms/step - loss: 2.1311e-05\n",
            "Epoch 84/300\n",
            "22/22 [==============================] - 1s 40ms/step - loss: 1.1713e-05\n",
            "Epoch 85/300\n",
            "22/22 [==============================] - 1s 38ms/step - loss: 3.1274e-05\n",
            "Epoch 86/300\n",
            "22/22 [==============================] - 1s 39ms/step - loss: 5.3823e-05\n",
            "Epoch 87/300\n",
            "22/22 [==============================] - 1s 30ms/step - loss: 2.0259e-05\n",
            "Epoch 88/300\n",
            "22/22 [==============================] - 1s 31ms/step - loss: 1.7824e-05\n",
            "Epoch 89/300\n",
            "22/22 [==============================] - 1s 31ms/step - loss: 9.5710e-06\n",
            "Epoch 90/300\n",
            "22/22 [==============================] - 1s 35ms/step - loss: 1.3713e-05\n",
            "Epoch 91/300\n",
            "22/22 [==============================] - 1s 40ms/step - loss: 1.1725e-05\n",
            "Epoch 92/300\n",
            "22/22 [==============================] - 1s 33ms/step - loss: 2.1769e-05\n",
            "Epoch 93/300\n",
            "22/22 [==============================] - 1s 33ms/step - loss: 1.4392e-05\n",
            "Epoch 94/300\n",
            "22/22 [==============================] - 1s 32ms/step - loss: 4.5280e-05\n",
            "Epoch 95/300\n",
            "22/22 [==============================] - 1s 39ms/step - loss: 8.6860e-05\n",
            "Epoch 96/300\n",
            "22/22 [==============================] - 1s 31ms/step - loss: 1.7357e-05\n",
            "Epoch 97/300\n",
            "22/22 [==============================] - 1s 37ms/step - loss: 1.0657e-05\n",
            "Epoch 98/300\n",
            "22/22 [==============================] - 1s 35ms/step - loss: 1.3221e-05\n",
            "Epoch 99/300\n",
            "22/22 [==============================] - 1s 37ms/step - loss: 1.0914e-05\n",
            "Epoch 100/300\n",
            "22/22 [==============================] - 1s 50ms/step - loss: 9.1572e-06\n",
            "Epoch 101/300\n",
            "22/22 [==============================] - 1s 41ms/step - loss: 1.5228e-05\n",
            "Epoch 102/300\n",
            "22/22 [==============================] - 1s 34ms/step - loss: 2.9896e-05\n",
            "Epoch 103/300\n",
            "22/22 [==============================] - 1s 33ms/step - loss: 2.3922e-05\n",
            "Epoch 104/300\n",
            "22/22 [==============================] - 1s 36ms/step - loss: 1.1015e-05\n",
            "Epoch 105/300\n",
            "22/22 [==============================] - 1s 34ms/step - loss: 9.0126e-06\n",
            "Epoch 106/300\n",
            "22/22 [==============================] - 1s 36ms/step - loss: 1.2362e-05\n",
            "Epoch 107/300\n",
            "22/22 [==============================] - 1s 36ms/step - loss: 1.1406e-05\n",
            "Epoch 108/300\n",
            "22/22 [==============================] - 1s 40ms/step - loss: 1.2485e-05\n",
            "Epoch 109/300\n",
            "22/22 [==============================] - 1s 37ms/step - loss: 1.2355e-05\n",
            "Epoch 110/300\n",
            "22/22 [==============================] - 1s 32ms/step - loss: 2.7021e-05\n",
            "Epoch 111/300\n",
            "22/22 [==============================] - 1s 34ms/step - loss: 2.9559e-05\n",
            "Epoch 112/300\n",
            "22/22 [==============================] - 1s 40ms/step - loss: 3.0256e-05\n",
            "Epoch 113/300\n",
            "22/22 [==============================] - 1s 39ms/step - loss: 3.8399e-05\n",
            "Epoch 114/300\n",
            "22/22 [==============================] - 1s 33ms/step - loss: 1.0406e-05\n",
            "Epoch 115/300\n",
            "22/22 [==============================] - 1s 43ms/step - loss: 1.0844e-05\n",
            "Epoch 116/300\n",
            "22/22 [==============================] - 1s 43ms/step - loss: 1.9359e-05\n",
            "Epoch 117/300\n",
            "22/22 [==============================] - 1s 35ms/step - loss: 2.1666e-05\n",
            "Epoch 118/300\n",
            "22/22 [==============================] - 1s 34ms/step - loss: 6.0316e-05\n",
            "Epoch 119/300\n",
            "22/22 [==============================] - 1s 33ms/step - loss: 1.0477e-04\n",
            "Epoch 120/300\n",
            "22/22 [==============================] - 1s 40ms/step - loss: 1.7325e-04\n",
            "Epoch 121/300\n",
            "22/22 [==============================] - 1s 42ms/step - loss: 4.8278e-05\n",
            "Epoch 122/300\n",
            "22/22 [==============================] - 1s 36ms/step - loss: 2.1950e-05\n",
            "Epoch 123/300\n",
            "22/22 [==============================] - 1s 36ms/step - loss: 1.0767e-05\n",
            "Epoch 124/300\n",
            "22/22 [==============================] - 1s 35ms/step - loss: 1.4686e-05\n",
            "Epoch 125/300\n",
            "22/22 [==============================] - 1s 42ms/step - loss: 1.3119e-05\n",
            "Epoch 126/300\n",
            "22/22 [==============================] - 1s 36ms/step - loss: 9.6420e-06\n",
            "Epoch 127/300\n",
            "22/22 [==============================] - 1s 39ms/step - loss: 1.0361e-05\n",
            "Epoch 128/300\n",
            "22/22 [==============================] - 1s 38ms/step - loss: 1.2201e-05\n",
            "Epoch 129/300\n",
            "22/22 [==============================] - 1s 43ms/step - loss: 1.3543e-05\n",
            "Epoch 130/300\n",
            "22/22 [==============================] - 1s 37ms/step - loss: 1.4722e-05\n",
            "Epoch 131/300\n",
            "22/22 [==============================] - 1s 42ms/step - loss: 1.6001e-05\n",
            "Epoch 132/300\n",
            "22/22 [==============================] - 1s 39ms/step - loss: 2.1636e-05\n",
            "Epoch 133/300\n",
            "22/22 [==============================] - 1s 54ms/step - loss: 1.1700e-05\n",
            "Epoch 134/300\n",
            "22/22 [==============================] - 1s 39ms/step - loss: 1.1654e-05\n",
            "Epoch 135/300\n",
            "22/22 [==============================] - 1s 37ms/step - loss: 1.0405e-05\n",
            "Epoch 136/300\n",
            "22/22 [==============================] - 1s 40ms/step - loss: 1.1846e-05\n",
            "Epoch 137/300\n",
            "22/22 [==============================] - 1s 37ms/step - loss: 2.9503e-05\n",
            "Epoch 138/300\n",
            "22/22 [==============================] - 1s 38ms/step - loss: 4.2625e-05\n",
            "Epoch 139/300\n",
            "22/22 [==============================] - 1s 36ms/step - loss: 5.5301e-05\n",
            "Epoch 140/300\n",
            "22/22 [==============================] - 1s 38ms/step - loss: 1.6216e-05\n",
            "Epoch 141/300\n",
            "22/22 [==============================] - 1s 39ms/step - loss: 3.4494e-05\n",
            "Epoch 142/300\n",
            "22/22 [==============================] - 1s 42ms/step - loss: 7.3763e-05\n",
            "Epoch 143/300\n",
            "22/22 [==============================] - 1s 38ms/step - loss: 6.0313e-05\n",
            "Epoch 144/300\n",
            "22/22 [==============================] - 1s 35ms/step - loss: 1.6123e-04\n",
            "Epoch 145/300\n",
            "22/22 [==============================] - 1s 34ms/step - loss: 3.8095e-05\n",
            "Epoch 146/300\n",
            "22/22 [==============================] - 1s 50ms/step - loss: 4.1998e-05\n",
            "Epoch 147/300\n",
            "22/22 [==============================] - 1s 38ms/step - loss: 8.8300e-06\n",
            "Epoch 148/300\n",
            "22/22 [==============================] - 1s 44ms/step - loss: 8.7976e-06\n",
            "Epoch 149/300\n",
            "22/22 [==============================] - 1s 42ms/step - loss: 8.0126e-06\n",
            "Epoch 150/300\n",
            "22/22 [==============================] - 1s 37ms/step - loss: 1.0326e-05\n",
            "Epoch 151/300\n",
            "22/22 [==============================] - 1s 35ms/step - loss: 1.3713e-05\n",
            "Epoch 152/300\n",
            "22/22 [==============================] - 1s 33ms/step - loss: 1.2074e-05\n",
            "Epoch 153/300\n",
            "22/22 [==============================] - 1s 36ms/step - loss: 9.2703e-06\n",
            "Epoch 154/300\n",
            "22/22 [==============================] - 1s 39ms/step - loss: 9.6690e-06\n",
            "Epoch 155/300\n",
            "22/22 [==============================] - 1s 34ms/step - loss: 1.0471e-05\n",
            "Epoch 156/300\n",
            "22/22 [==============================] - 1s 35ms/step - loss: 8.9360e-06\n",
            "Epoch 157/300\n",
            "22/22 [==============================] - 1s 35ms/step - loss: 1.6177e-05\n",
            "Epoch 158/300\n",
            "22/22 [==============================] - 1s 43ms/step - loss: 1.1897e-05\n",
            "Epoch 159/300\n",
            "22/22 [==============================] - 1s 36ms/step - loss: 1.3061e-05\n",
            "Epoch 160/300\n",
            "22/22 [==============================] - 1s 32ms/step - loss: 2.1621e-05\n",
            "Epoch 161/300\n",
            "22/22 [==============================] - 1s 35ms/step - loss: 1.4080e-05\n",
            "Epoch 162/300\n",
            "22/22 [==============================] - 1s 40ms/step - loss: 1.1446e-05\n",
            "Epoch 163/300\n",
            "22/22 [==============================] - 1s 40ms/step - loss: 1.2739e-05\n",
            "Epoch 164/300\n",
            "22/22 [==============================] - 1s 36ms/step - loss: 1.5043e-05\n",
            "Epoch 165/300\n",
            "22/22 [==============================] - 1s 36ms/step - loss: 1.1672e-05\n",
            "Epoch 166/300\n",
            "22/22 [==============================] - 1s 41ms/step - loss: 9.3125e-06\n",
            "Epoch 167/300\n",
            "22/22 [==============================] - 1s 33ms/step - loss: 1.0638e-05\n",
            "Epoch 168/300\n",
            "22/22 [==============================] - 1s 34ms/step - loss: 1.3516e-05\n",
            "Epoch 169/300\n",
            "22/22 [==============================] - 1s 38ms/step - loss: 2.2501e-05\n",
            "Epoch 170/300\n",
            "22/22 [==============================] - 1s 33ms/step - loss: 2.6457e-05\n",
            "Epoch 171/300\n",
            "22/22 [==============================] - 1s 35ms/step - loss: 9.0649e-06\n",
            "Epoch 172/300\n",
            "22/22 [==============================] - 1s 37ms/step - loss: 9.6837e-06\n",
            "Epoch 173/300\n",
            "22/22 [==============================] - 1s 36ms/step - loss: 1.6327e-05\n",
            "Epoch 174/300\n",
            "22/22 [==============================] - 1s 35ms/step - loss: 8.5478e-06\n",
            "Epoch 175/300\n",
            "22/22 [==============================] - 1s 34ms/step - loss: 1.4207e-05\n",
            "Epoch 176/300\n",
            "22/22 [==============================] - 1s 31ms/step - loss: 1.4536e-05\n",
            "Epoch 177/300\n",
            "22/22 [==============================] - 1s 32ms/step - loss: 1.3876e-05\n",
            "Epoch 178/300\n",
            "22/22 [==============================] - 1s 46ms/step - loss: 1.1242e-05\n",
            "Epoch 179/300\n",
            "22/22 [==============================] - 1s 43ms/step - loss: 1.0705e-05\n",
            "Epoch 180/300\n",
            "22/22 [==============================] - 1s 40ms/step - loss: 1.5259e-05\n",
            "Epoch 181/300\n",
            "22/22 [==============================] - 1s 43ms/step - loss: 2.4365e-05\n",
            "Epoch 182/300\n",
            "22/22 [==============================] - 1s 35ms/step - loss: 1.4478e-05\n",
            "Epoch 183/300\n",
            "22/22 [==============================] - 1s 42ms/step - loss: 1.4290e-05\n",
            "Epoch 184/300\n",
            "22/22 [==============================] - 1s 35ms/step - loss: 3.7091e-05\n",
            "Epoch 185/300\n",
            "22/22 [==============================] - 1s 45ms/step - loss: 2.1937e-05\n",
            "Epoch 186/300\n",
            "22/22 [==============================] - 1s 37ms/step - loss: 9.8764e-06\n",
            "Epoch 187/300\n",
            "22/22 [==============================] - 1s 36ms/step - loss: 2.1909e-05\n",
            "Epoch 188/300\n",
            "22/22 [==============================] - 1s 35ms/step - loss: 1.1272e-05\n",
            "Epoch 189/300\n",
            "22/22 [==============================] - 1s 44ms/step - loss: 1.6601e-05\n",
            "Epoch 190/300\n",
            "22/22 [==============================] - 1s 36ms/step - loss: 2.0875e-05\n",
            "Epoch 191/300\n",
            "22/22 [==============================] - 1s 36ms/step - loss: 1.4679e-05\n",
            "Epoch 192/300\n",
            "22/22 [==============================] - 1s 36ms/step - loss: 1.0641e-05\n",
            "Epoch 193/300\n",
            "22/22 [==============================] - 1s 49ms/step - loss: 1.1145e-05\n",
            "Epoch 194/300\n",
            "22/22 [==============================] - 1s 65ms/step - loss: 1.7928e-05\n",
            "Epoch 195/300\n",
            "22/22 [==============================] - 1s 47ms/step - loss: 1.2288e-05\n",
            "Epoch 196/300\n",
            "22/22 [==============================] - 1s 46ms/step - loss: 1.1320e-05\n",
            "Epoch 197/300\n",
            "22/22 [==============================] - 1s 35ms/step - loss: 2.0144e-05\n",
            "Epoch 198/300\n",
            "22/22 [==============================] - 1s 38ms/step - loss: 2.1304e-05\n",
            "Epoch 199/300\n",
            "22/22 [==============================] - 1s 45ms/step - loss: 3.5639e-05\n",
            "Epoch 200/300\n",
            "22/22 [==============================] - 1s 39ms/step - loss: 4.3523e-05\n",
            "Epoch 201/300\n",
            "22/22 [==============================] - 1s 35ms/step - loss: 3.4131e-05\n",
            "Epoch 202/300\n",
            "22/22 [==============================] - 1s 37ms/step - loss: 2.9870e-05\n",
            "Epoch 203/300\n",
            "22/22 [==============================] - 1s 45ms/step - loss: 6.4646e-05\n",
            "Epoch 204/300\n",
            "22/22 [==============================] - 1s 38ms/step - loss: 3.0461e-05\n",
            "Epoch 205/300\n",
            "22/22 [==============================] - 1s 34ms/step - loss: 1.3952e-05\n",
            "Epoch 206/300\n",
            "22/22 [==============================] - 1s 38ms/step - loss: 3.5052e-05\n",
            "Epoch 207/300\n",
            "22/22 [==============================] - 1s 46ms/step - loss: 3.1863e-05\n",
            "Epoch 208/300\n",
            "22/22 [==============================] - 1s 41ms/step - loss: 3.0359e-05\n",
            "Epoch 209/300\n",
            "22/22 [==============================] - 1s 42ms/step - loss: 1.1389e-05\n",
            "Epoch 210/300\n",
            "22/22 [==============================] - 1s 45ms/step - loss: 1.0712e-05\n",
            "Epoch 211/300\n",
            "22/22 [==============================] - 1s 35ms/step - loss: 1.1802e-05\n",
            "Epoch 212/300\n",
            "22/22 [==============================] - 1s 36ms/step - loss: 1.4104e-05\n",
            "Epoch 213/300\n",
            "22/22 [==============================] - 1s 40ms/step - loss: 9.2795e-06\n",
            "Epoch 214/300\n",
            "22/22 [==============================] - 1s 33ms/step - loss: 2.1680e-05\n",
            "Epoch 215/300\n",
            "22/22 [==============================] - 1s 37ms/step - loss: 2.4878e-05\n",
            "Epoch 216/300\n",
            "22/22 [==============================] - 1s 39ms/step - loss: 1.3298e-05\n",
            "Epoch 217/300\n",
            "22/22 [==============================] - 1s 43ms/step - loss: 1.6392e-05\n",
            "Epoch 218/300\n",
            "22/22 [==============================] - 1s 37ms/step - loss: 2.5197e-05\n",
            "Epoch 219/300\n",
            "22/22 [==============================] - 1s 38ms/step - loss: 2.8223e-05\n",
            "Epoch 220/300\n",
            "22/22 [==============================] - 1s 34ms/step - loss: 2.5505e-05\n",
            "Epoch 221/300\n",
            "22/22 [==============================] - 1s 40ms/step - loss: 3.1344e-05\n",
            "Epoch 222/300\n",
            "22/22 [==============================] - 1s 38ms/step - loss: 2.1017e-05\n",
            "Epoch 223/300\n",
            "22/22 [==============================] - 1s 35ms/step - loss: 1.2124e-05\n",
            "Epoch 224/300\n",
            "22/22 [==============================] - 1s 54ms/step - loss: 1.0569e-05\n",
            "Epoch 225/300\n",
            "22/22 [==============================] - 1s 61ms/step - loss: 1.8048e-05\n",
            "Epoch 226/300\n",
            "22/22 [==============================] - 1s 41ms/step - loss: 9.4147e-06\n",
            "Epoch 227/300\n",
            "22/22 [==============================] - 1s 34ms/step - loss: 1.3926e-05\n",
            "Epoch 228/300\n",
            "22/22 [==============================] - 1s 34ms/step - loss: 3.0064e-05\n",
            "Epoch 229/300\n",
            "22/22 [==============================] - 1s 34ms/step - loss: 1.1877e-05\n",
            "Epoch 230/300\n",
            "22/22 [==============================] - 1s 35ms/step - loss: 1.0034e-05\n",
            "Epoch 231/300\n",
            "22/22 [==============================] - 1s 40ms/step - loss: 8.0952e-06\n",
            "Epoch 232/300\n",
            "22/22 [==============================] - 1s 35ms/step - loss: 9.5930e-06\n",
            "Epoch 233/300\n",
            "22/22 [==============================] - 1s 37ms/step - loss: 2.6418e-05\n",
            "Epoch 234/300\n",
            "22/22 [==============================] - 1s 35ms/step - loss: 2.8727e-05\n",
            "Epoch 235/300\n",
            "22/22 [==============================] - 1s 37ms/step - loss: 2.6059e-05\n",
            "Epoch 236/300\n",
            "22/22 [==============================] - 1s 35ms/step - loss: 7.3879e-06\n",
            "Epoch 237/300\n",
            "22/22 [==============================] - 1s 40ms/step - loss: 1.1419e-05\n",
            "Epoch 238/300\n",
            "22/22 [==============================] - 1s 47ms/step - loss: 1.5104e-05\n",
            "Epoch 239/300\n",
            "22/22 [==============================] - 1s 40ms/step - loss: 5.5173e-05\n",
            "Epoch 240/300\n",
            "22/22 [==============================] - 1s 37ms/step - loss: 1.8009e-05\n",
            "Epoch 241/300\n",
            "22/22 [==============================] - 1s 37ms/step - loss: 1.5940e-05\n",
            "Epoch 242/300\n",
            "22/22 [==============================] - 1s 41ms/step - loss: 1.9660e-05\n",
            "Epoch 243/300\n",
            "22/22 [==============================] - 1s 37ms/step - loss: 1.7032e-05\n",
            "Epoch 244/300\n",
            "22/22 [==============================] - 1s 34ms/step - loss: 9.1098e-06\n",
            "Epoch 245/300\n",
            "22/22 [==============================] - 1s 41ms/step - loss: 8.9953e-06\n",
            "Epoch 246/300\n",
            "22/22 [==============================] - 1s 38ms/step - loss: 1.5120e-05\n",
            "Epoch 247/300\n",
            "22/22 [==============================] - 1s 38ms/step - loss: 1.7912e-05\n",
            "Epoch 248/300\n",
            "22/22 [==============================] - 1s 38ms/step - loss: 9.0843e-06\n",
            "Epoch 249/300\n",
            "22/22 [==============================] - 1s 45ms/step - loss: 8.1301e-06\n",
            "Epoch 250/300\n",
            "22/22 [==============================] - 1s 38ms/step - loss: 8.1305e-06\n",
            "Epoch 251/300\n",
            "22/22 [==============================] - 1s 37ms/step - loss: 1.0835e-05\n",
            "Epoch 252/300\n",
            "22/22 [==============================] - 1s 44ms/step - loss: 8.1776e-06\n",
            "Epoch 253/300\n",
            "22/22 [==============================] - 1s 44ms/step - loss: 7.5149e-06\n",
            "Epoch 254/300\n",
            "22/22 [==============================] - 1s 40ms/step - loss: 1.4642e-05\n",
            "Epoch 255/300\n",
            "22/22 [==============================] - 1s 45ms/step - loss: 1.1454e-05\n",
            "Epoch 256/300\n",
            "22/22 [==============================] - 1s 37ms/step - loss: 1.2048e-05\n",
            "Epoch 257/300\n",
            "22/22 [==============================] - 1s 35ms/step - loss: 1.7292e-05\n",
            "Epoch 258/300\n",
            "22/22 [==============================] - 1s 36ms/step - loss: 1.7103e-05\n",
            "Epoch 259/300\n",
            "22/22 [==============================] - 1s 43ms/step - loss: 1.0527e-05\n",
            "Epoch 260/300\n",
            "22/22 [==============================] - 1s 37ms/step - loss: 1.6075e-05\n",
            "Epoch 261/300\n",
            "22/22 [==============================] - 1s 38ms/step - loss: 2.8076e-05\n",
            "Epoch 262/300\n",
            "22/22 [==============================] - 1s 38ms/step - loss: 9.0095e-06\n",
            "Epoch 263/300\n",
            "22/22 [==============================] - 1s 43ms/step - loss: 9.9334e-06\n",
            "Epoch 264/300\n",
            "22/22 [==============================] - 1s 39ms/step - loss: 1.3414e-05\n",
            "Epoch 265/300\n",
            "22/22 [==============================] - 1s 36ms/step - loss: 1.0865e-05\n",
            "Epoch 266/300\n",
            "22/22 [==============================] - 1s 42ms/step - loss: 2.0598e-05\n",
            "Epoch 267/300\n",
            "22/22 [==============================] - 1s 39ms/step - loss: 9.2738e-06\n",
            "Epoch 268/300\n",
            "22/22 [==============================] - 1s 39ms/step - loss: 1.0096e-05\n",
            "Epoch 269/300\n",
            "22/22 [==============================] - 1s 51ms/step - loss: 8.1282e-06\n",
            "Epoch 270/300\n",
            "22/22 [==============================] - 1s 40ms/step - loss: 1.0333e-05\n",
            "Epoch 271/300\n",
            "22/22 [==============================] - 1s 36ms/step - loss: 1.2774e-05\n",
            "Epoch 272/300\n",
            "22/22 [==============================] - 1s 33ms/step - loss: 1.3567e-05\n",
            "Epoch 273/300\n",
            "22/22 [==============================] - 1s 33ms/step - loss: 9.0801e-05\n",
            "Epoch 274/300\n",
            "22/22 [==============================] - 1s 36ms/step - loss: 7.6684e-05\n",
            "Epoch 275/300\n",
            "22/22 [==============================] - 1s 36ms/step - loss: 1.8004e-05\n",
            "Epoch 276/300\n",
            "22/22 [==============================] - 1s 42ms/step - loss: 2.6131e-05\n",
            "Epoch 277/300\n",
            "22/22 [==============================] - 1s 35ms/step - loss: 1.5019e-05\n",
            "Epoch 278/300\n",
            "22/22 [==============================] - 1s 36ms/step - loss: 2.0632e-05\n",
            "Epoch 279/300\n",
            "22/22 [==============================] - 1s 35ms/step - loss: 1.0989e-05\n",
            "Epoch 280/300\n",
            "22/22 [==============================] - 1s 40ms/step - loss: 2.8053e-05\n",
            "Epoch 281/300\n",
            "22/22 [==============================] - 1s 32ms/step - loss: 1.9929e-05\n",
            "Epoch 282/300\n",
            "22/22 [==============================] - 1s 33ms/step - loss: 8.9464e-06\n",
            "Epoch 283/300\n",
            "22/22 [==============================] - 1s 44ms/step - loss: 9.8129e-06\n",
            "Epoch 284/300\n",
            "22/22 [==============================] - 1s 37ms/step - loss: 2.4094e-05\n",
            "Epoch 285/300\n",
            "22/22 [==============================] - 1s 34ms/step - loss: 1.0395e-05\n",
            "Epoch 286/300\n",
            "22/22 [==============================] - 1s 36ms/step - loss: 9.1110e-06\n",
            "Epoch 287/300\n",
            "22/22 [==============================] - 1s 39ms/step - loss: 8.0638e-06\n",
            "Epoch 288/300\n",
            "22/22 [==============================] - 1s 32ms/step - loss: 8.1277e-06\n",
            "Epoch 289/300\n",
            "22/22 [==============================] - 1s 32ms/step - loss: 1.4505e-05\n",
            "Epoch 290/300\n",
            "22/22 [==============================] - 1s 41ms/step - loss: 4.0106e-05\n",
            "Epoch 291/300\n",
            "22/22 [==============================] - 1s 35ms/step - loss: 5.1867e-05\n",
            "Epoch 292/300\n",
            "22/22 [==============================] - 1s 33ms/step - loss: 1.2044e-05\n",
            "Epoch 293/300\n",
            "22/22 [==============================] - 1s 42ms/step - loss: 1.2797e-05\n",
            "Epoch 294/300\n",
            "22/22 [==============================] - 1s 32ms/step - loss: 1.4155e-05\n",
            "Epoch 295/300\n",
            "22/22 [==============================] - 1s 33ms/step - loss: 2.4980e-05\n",
            "Epoch 296/300\n",
            "22/22 [==============================] - 1s 34ms/step - loss: 2.0410e-05\n",
            "Epoch 297/300\n",
            "22/22 [==============================] - 1s 42ms/step - loss: 1.3291e-05\n",
            "Epoch 298/300\n",
            "22/22 [==============================] - 1s 37ms/step - loss: 9.6249e-06\n",
            "Epoch 299/300\n",
            "22/22 [==============================] - 1s 43ms/step - loss: 1.5323e-05\n",
            "Epoch 300/300\n",
            "22/22 [==============================] - 1s 48ms/step - loss: 1.0026e-05\n"
          ]
        },
        {
          "data": {
            "text/plain": [
              "<tensorflow.python.keras.callbacks.History at 0x170110f9040>"
            ]
          },
          "execution_count": 52,
          "metadata": {},
          "output_type": "execute_result"
        }
      ],
      "source": [
        "regressor.fit(X_train, y_train, epochs=300, batch_size=32)"
      ]
    },
    {
      "cell_type": "markdown",
      "metadata": {
        "colab_type": "text",
        "id": "4hRau_lIkrE8"
      },
      "source": [
        "## Part 3 - Making the predictions and visualising the results"
      ]
    },
    {
      "attachments": {},
      "cell_type": "markdown",
      "metadata": {
        "colab_type": "text",
        "id": "SgJO6qEDksxD"
      },
      "source": [
        "### Getting the real CPIAUCSL "
      ]
    },
    {
      "cell_type": "code",
      "execution_count": 43,
      "metadata": {
        "colab": {},
        "colab_type": "code",
        "id": "FmBT2zqukxTz"
      },
      "outputs": [],
      "source": [
        "real_CPIAUCSL_data = dataset_test.iloc[:, 1:2].values"
      ]
    },
    {
      "attachments": {},
      "cell_type": "markdown",
      "metadata": {
        "colab_type": "text",
        "id": "GrvrLblxkz42"
      },
      "source": [
        "### Getting the predicted CPIAUCSL"
      ]
    },
    {
      "cell_type": "code",
      "execution_count": 53,
      "metadata": {
        "colab": {},
        "colab_type": "code",
        "id": "emikTvUpk3Ck"
      },
      "outputs": [],
      "source": [
        "dataset_total = pd.concat((dataset_train['CPIAUCSL'], dataset_test['CPIAUCSL']), axis = 0)\n",
        "inputs = dataset_total[len(dataset_total) - len(dataset_test) - timestep:].values\n",
        "inputs = inputs.reshape(-1,1)\n",
        "inputs = sc.transform(inputs)\n",
        "X_test = []\n",
        "for i in range(timestep, len(dataset_test)+timestep):\n",
        "    X_test.append(inputs[i-timestep:i, 0])\n",
        "X_test = np.array(X_test)\n",
        "X_test = np.reshape(X_test, (X_test.shape[0], X_test.shape[1], 1))\n",
        "predicted = regressor.predict(X_test)\n",
        "predicted = sc.inverse_transform(predicted)"
      ]
    },
    {
      "cell_type": "markdown",
      "metadata": {
        "colab_type": "text",
        "id": "iFTNs3YHk6FQ"
      },
      "source": [
        "### Visualising the results"
      ]
    },
    {
      "cell_type": "code",
      "execution_count": 54,
      "metadata": {
        "colab": {
          "base_uri": "https://localhost:8080/",
          "height": 295
        },
        "colab_type": "code",
        "id": "8OUI8U49k9tH",
        "outputId": "db0ed15e-071b-4bae-955e-0eda3df95238"
      },
      "outputs": [
        {
          "data": {
            "image/png": "[encoded data removed]",
            "text/plain": [
              "<Figure size 640x480 with 1 Axes>"
            ]
          },
          "metadata": {},
          "output_type": "display_data"
        }
      ],
      "source": [
        "plt.plot(real_CPIAUCSL_data, color = 'red', label = 'Real CPIAUCSL')\n",
        "plt.plot(predicted, color = 'blue', label = 'Predicted CPIAUCSL')\n",
        "plt.title('CPIAUCSL Prediction')\n",
        "plt.xlabel('Date')\n",
        "plt.ylabel('CPIAUCSL')\n",
        "plt.legend()\n",
        "plt.show()"
      ]
    },
    {
      "cell_type": "code",
      "execution_count": 56,
      "metadata": {},
      "outputs": [],
      "source": [
        "# save predicted values\n",
        "predicted_df = pd.DataFrame(predicted)"
      ]
    },
    {
      "cell_type": "code",
      "execution_count": 57,
      "metadata": {},
      "outputs": [
        {
          "name": "stdout",
          "output_type": "stream",
          "text": [
            "RMSE:  2.7518011765132813\n"
          ]
        }
      ],
      "source": [
        "import math\n",
        "from sklearn.metrics import mean_squared_error\n",
        "rmse = math.sqrt(mean_squared_error(real_CPIAUCSL_data, predicted))\n",
        "print('RMSE: ', rmse)\n"
      ]
    },
    {
      "cell_type": "code",
      "execution_count": 46,
      "metadata": {},
      "outputs": [],
      "source": [
        "regressor.save('CPIAUCSL_Model_best_v2.h5')"
      ]
    }
  ],
  "metadata": {
    "colab": {
      "collapsed_sections": [],
      "name": "recurrent_neural_network.ipynb",
      "provenance": []
    },
    "kernelspec": {
      "display_name": "base",
      "language": "python",
      "name": "python3"
    },
    "language_info": {
      "codemirror_mode": {
        "name": "ipython",
        "version": 3
      },
      "file_extension": ".py",
      "mimetype": "text/x-python",
      "name": "python",
      "nbconvert_exporter": "python",
      "pygments_lexer": "ipython3",
      "version": "3.9.13"
    },
    "vscode": {
      "interpreter": {
        "hash": "ad2bdc8ecc057115af97d19610ffacc2b4e99fae6737bb82f5d7fb13d2f2c186"
      }
    }
  },
  "nbformat": 4,
  "nbformat_minor": 0
}
