{
  "cells": [
    {
      "cell_type": "markdown",
      "metadata": {
        "colab_type": "text",
        "id": "xpAuMVCwfWs8"
      },
      "source": [
        "# Recurrent Neural Network"
      ]
    },
    {
      "cell_type": "markdown",
      "metadata": {
        "colab_type": "text",
        "id": "nxJfRe4bfYVA"
      },
      "source": [
        "## Part 1 - Data Preprocessing"
      ]
    },
    {
      "cell_type": "markdown",
      "metadata": {
        "colab_type": "text",
        "id": "ir9zwETrfbrp"
      },
      "source": [
        "### Importing the libraries"
      ]
    },
    {
      "cell_type": "code",
      "execution_count": 1,
      "metadata": {
        "colab": {},
        "colab_type": "code",
        "id": "ZT1f24vHffuf"
      },
      "outputs": [],
      "source": [
        "import numpy as np\n",
        "import matplotlib.pyplot as plt\n",
        "import pandas as pd\n",
        "from sklearn.model_selection import train_test_split"
      ]
    },
    {
      "cell_type": "markdown",
      "metadata": {
        "colab_type": "text",
        "id": "nQ47JAxrgmaL"
      },
      "source": [
        "### Importing the training set"
      ]
    },
    {
      "cell_type": "code",
      "execution_count": 2,
      "metadata": {
        "colab": {},
        "colab_type": "code",
        "id": "1xiv3pJOgqY3"
      },
      "outputs": [],
      "source": [
        "df = pd.read_csv('T10Y2Y_monthly_mean.csv')\n",
        "# split data into training and testing sets\n",
        "dataset_train, dataset_test = train_test_split(df, test_size=0.2, shuffle=False)\n",
        "training_set = dataset_train.iloc[:, 1:2].values"
      ]
    },
    {
      "cell_type": "code",
      "execution_count": 3,
      "metadata": {},
      "outputs": [
        {
          "data": {
            "text/plain": [
              "\"ArithmeticError\\ndef remove_outliers_zscore(data):\\n    threshold = 3\\n    mean = np.mean(data)\\n    std = np.std(data)\\n    z_scores = [(x - mean) / std for x in data]\\n    return data[(np.abs(z_scores) < threshold)]\\n\\n# apply the function to the column of data containing outliers\\ndataset_test2 = remove_outliers_zscore(dataset_test['T10Y2Y'])\\n\\nplt.plot(dataset_test2) \""
            ]
          },
          "execution_count": 3,
          "metadata": {},
          "output_type": "execute_result"
        }
      ],
      "source": [
        "'''ArithmeticError\n",
        "def remove_outliers_zscore(data):\n",
        "    threshold = 3\n",
        "    mean = np.mean(data)\n",
        "    std = np.std(data)\n",
        "    z_scores = [(x - mean) / std for x in data]\n",
        "    return data[(np.abs(z_scores) < threshold)]\n",
        "\n",
        "# apply the function to the column of data containing outliers\n",
        "dataset_test2 = remove_outliers_zscore(dataset_test['T10Y2Y'])\n",
        "\n",
        "plt.plot(dataset_test2) '''"
      ]
    },
    {
      "cell_type": "markdown",
      "metadata": {
        "colab_type": "text",
        "id": "HT8_2UJegtG5"
      },
      "source": [
        "### Feature Scaling"
      ]
    },
    {
      "cell_type": "code",
      "execution_count": 4,
      "metadata": {
        "colab": {},
        "colab_type": "code",
        "id": "OTrF2kR7gx9x"
      },
      "outputs": [],
      "source": [
        "from sklearn.preprocessing import MinMaxScaler\n",
        "sc = MinMaxScaler(feature_range = (0, 1))\n",
        "training_set_scaled = sc.fit_transform(training_set)"
      ]
    },
    {
      "cell_type": "markdown",
      "metadata": {
        "colab_type": "text",
        "id": "JyYgYocqhNUg"
      },
      "source": [
        "### Creating a data structure with 60 timesteps and 1 output"
      ]
    },
    {
      "cell_type": "code",
      "execution_count": 5,
      "metadata": {
        "colab": {},
        "colab_type": "code",
        "id": "iofU21B0i6ST"
      },
      "outputs": [],
      "source": [
        "timestep = 36\n",
        "X_train = []\n",
        "y_train = []\n",
        "\n",
        "for i in range(timestep, len(training_set_scaled)):\n",
        "    X_train.append(training_set_scaled[i-timestep:i, 0])\n",
        "    y_train.append(training_set_scaled[i, 0])\n",
        "X_train, y_train = np.array(X_train), np.array(y_train)\n",
        "\n"
      ]
    },
    {
      "cell_type": "markdown",
      "metadata": {
        "colab_type": "text",
        "id": "D8yaN7Zvi95l"
      },
      "source": [
        "### Reshaping"
      ]
    },
    {
      "cell_type": "code",
      "execution_count": 6,
      "metadata": {
        "colab": {},
        "colab_type": "code",
        "id": "FOXqJHmNjBkz"
      },
      "outputs": [],
      "source": [
        "X_train = np.reshape(X_train, (X_train.shape[0], X_train.shape[1], 1))"
      ]
    },
    {
      "cell_type": "markdown",
      "metadata": {
        "colab_type": "text",
        "id": "ZRRSOJeVjEWV"
      },
      "source": [
        "## Part 2 - Building and Training the RNN"
      ]
    },
    {
      "cell_type": "markdown",
      "metadata": {
        "colab_type": "text",
        "id": "k4XV88JMjHXG"
      },
      "source": [
        "### Importing the Keras libraries and packages"
      ]
    },
    {
      "cell_type": "code",
      "execution_count": 7,
      "metadata": {
        "colab": {
          "base_uri": "https://localhost:8080/",
          "height": 34
        },
        "colab_type": "code",
        "id": "9JRnqsxEjKsD",
        "outputId": "b3e23e78-18aa-4396-c923-c877b8de60e4"
      },
      "outputs": [],
      "source": [
        "import tensorflow as tf\n",
        "from tensorflow.keras.models import Sequential\n",
        "from tensorflow.keras.layers import Dense, LSTM, Dropout\n",
        "from keras.callbacks import ModelCheckpoint\n",
        "import os"
      ]
    },
    {
      "cell_type": "markdown",
      "metadata": {
        "colab_type": "text",
        "id": "FEIE-1s9jNzC"
      },
      "source": [
        "### Initialising the RNN"
      ]
    },
    {
      "cell_type": "code",
      "execution_count": 8,
      "metadata": {
        "colab": {},
        "colab_type": "code",
        "id": "1338dJ0UjRKH"
      },
      "outputs": [],
      "source": [
        "regressor = Sequential()"
      ]
    },
    {
      "cell_type": "markdown",
      "metadata": {
        "colab_type": "text",
        "id": "62eg1OPGjT8z"
      },
      "source": [
        "### Adding the first LSTM layer and some Dropout regularisation"
      ]
    },
    {
      "cell_type": "code",
      "execution_count": 9,
      "metadata": {
        "colab": {},
        "colab_type": "code",
        "id": "2hIinyXUjbVU"
      },
      "outputs": [],
      "source": [
        "regressor.add(LSTM(units=50, return_sequences=True, input_shape=(X_train.shape[1], 1)))\n"
      ]
    },
    {
      "cell_type": "markdown",
      "metadata": {
        "colab_type": "text",
        "id": "3XBIYLyOjlMx"
      },
      "source": [
        "### Adding a second LSTM layer and some Dropout regularisation"
      ]
    },
    {
      "cell_type": "code",
      "execution_count": 10,
      "metadata": {
        "colab": {},
        "colab_type": "code",
        "id": "UG7nrVaSjuZ2"
      },
      "outputs": [],
      "source": [
        "regressor.add(LSTM(units = 50, return_sequences = True))\n"
      ]
    },
    {
      "cell_type": "markdown",
      "metadata": {
        "colab_type": "text",
        "id": "Ey3fHVnGj1cu"
      },
      "source": [
        "### Adding a third LSTM layer and some Dropout regularisation"
      ]
    },
    {
      "cell_type": "code",
      "execution_count": 11,
      "metadata": {},
      "outputs": [],
      "source": [
        "regressor.add(LSTM(units = 50, return_sequences = True))"
      ]
    },
    {
      "cell_type": "markdown",
      "metadata": {
        "colab_type": "text",
        "id": "SYTrtfTmj933"
      },
      "source": [
        "### Adding a fourth LSTM layer and some Dropout regularisation"
      ]
    },
    {
      "cell_type": "code",
      "execution_count": 12,
      "metadata": {
        "colab": {},
        "colab_type": "code",
        "id": "Jp4Ty8fRkBYV"
      },
      "outputs": [],
      "source": [
        "regressor.add(LSTM(units = 50))\n"
      ]
    },
    {
      "cell_type": "markdown",
      "metadata": {
        "colab_type": "text",
        "id": "9ABI6rOIkHhk"
      },
      "source": [
        "### Adding the output layer"
      ]
    },
    {
      "cell_type": "code",
      "execution_count": 13,
      "metadata": {
        "colab": {},
        "colab_type": "code",
        "id": "aM6R1z4WkME8"
      },
      "outputs": [],
      "source": [
        "regressor.add(Dense(units = 1))"
      ]
    },
    {
      "cell_type": "markdown",
      "metadata": {
        "colab_type": "text",
        "id": "zLx4K7uUkPSh"
      },
      "source": [
        "### Compiling the RNN"
      ]
    },
    {
      "cell_type": "code",
      "execution_count": 14,
      "metadata": {
        "colab": {},
        "colab_type": "code",
        "id": "XTrhVN-tkbko"
      },
      "outputs": [],
      "source": [
        "regressor.compile(optimizer = 'adam', loss = 'mean_squared_error')"
      ]
    },
    {
      "cell_type": "markdown",
      "metadata": {
        "colab_type": "text",
        "id": "-mPhwKGkkebi"
      },
      "source": [
        "### Fitting the RNN to the Training set"
      ]
    },
    {
      "cell_type": "code",
      "execution_count": 15,
      "metadata": {
        "colab": {
          "base_uri": "https://localhost:8080/",
          "height": 1000
        },
        "colab_type": "code",
        "id": "I06Nkrz5kkb-",
        "outputId": "dc9d947a-4d5c-4dbc-ed45-31bf44b98dfb"
      },
      "outputs": [
        {
          "name": "stdout",
          "output_type": "stream",
          "text": [
            "Epoch 1/300\n",
            "13/13 [==============================] - 13s 55ms/step - loss: 0.1176\n",
            "Epoch 2/300\n",
            "13/13 [==============================] - 0s 25ms/step - loss: 0.0332\n",
            "Epoch 3/300\n",
            "13/13 [==============================] - 0s 24ms/step - loss: 0.0245\n",
            "Epoch 4/300\n",
            "13/13 [==============================] - 0s 25ms/step - loss: 0.0219\n",
            "Epoch 5/300\n",
            "13/13 [==============================] - 0s 24ms/step - loss: 0.0204\n",
            "Epoch 6/300\n",
            "13/13 [==============================] - 0s 23ms/step - loss: 0.0184\n",
            "Epoch 7/300\n",
            "13/13 [==============================] - 0s 24ms/step - loss: 0.0163\n",
            "Epoch 8/300\n",
            "13/13 [==============================] - 0s 23ms/step - loss: 0.0123\n",
            "Epoch 9/300\n",
            "13/13 [==============================] - 0s 25ms/step - loss: 0.0113\n",
            "Epoch 10/300\n",
            "13/13 [==============================] - 0s 23ms/step - loss: 0.0111\n",
            "Epoch 11/300\n",
            "13/13 [==============================] - 0s 23ms/step - loss: 0.0107\n",
            "Epoch 12/300\n",
            "13/13 [==============================] - 0s 22ms/step - loss: 0.0101\n",
            "Epoch 13/300\n",
            "13/13 [==============================] - 0s 23ms/step - loss: 0.0102\n",
            "Epoch 14/300\n",
            "13/13 [==============================] - 0s 22ms/step - loss: 0.0107\n",
            "Epoch 15/300\n",
            "13/13 [==============================] - 0s 22ms/step - loss: 0.0101\n",
            "Epoch 16/300\n",
            "13/13 [==============================] - 0s 23ms/step - loss: 0.0106\n",
            "Epoch 17/300\n",
            "13/13 [==============================] - 0s 21ms/step - loss: 0.0093\n",
            "Epoch 18/300\n",
            "13/13 [==============================] - 0s 21ms/step - loss: 0.0088\n",
            "Epoch 19/300\n",
            "13/13 [==============================] - 0s 21ms/step - loss: 0.0085\n",
            "Epoch 20/300\n",
            "13/13 [==============================] - 0s 21ms/step - loss: 0.0085\n",
            "Epoch 21/300\n",
            "13/13 [==============================] - 0s 22ms/step - loss: 0.0081\n",
            "Epoch 22/300\n",
            "13/13 [==============================] - 0s 21ms/step - loss: 0.0080\n",
            "Epoch 23/300\n",
            "13/13 [==============================] - 0s 21ms/step - loss: 0.0095\n",
            "Epoch 24/300\n",
            "13/13 [==============================] - 0s 21ms/step - loss: 0.0088\n",
            "Epoch 25/300\n",
            "13/13 [==============================] - 0s 22ms/step - loss: 0.0079\n",
            "Epoch 26/300\n",
            "13/13 [==============================] - 0s 21ms/step - loss: 0.0086\n",
            "Epoch 27/300\n",
            "13/13 [==============================] - 0s 21ms/step - loss: 0.0078\n",
            "Epoch 28/300\n",
            "13/13 [==============================] - 0s 21ms/step - loss: 0.0073\n",
            "Epoch 29/300\n",
            "13/13 [==============================] - 0s 21ms/step - loss: 0.0070\n",
            "Epoch 30/300\n",
            "13/13 [==============================] - 0s 21ms/step - loss: 0.0072\n",
            "Epoch 31/300\n",
            "13/13 [==============================] - 0s 21ms/step - loss: 0.0072\n",
            "Epoch 32/300\n",
            "13/13 [==============================] - 0s 21ms/step - loss: 0.0068\n",
            "Epoch 33/300\n",
            "13/13 [==============================] - 0s 21ms/step - loss: 0.0066\n",
            "Epoch 34/300\n",
            "13/13 [==============================] - 0s 20ms/step - loss: 0.0064\n",
            "Epoch 35/300\n",
            "13/13 [==============================] - 0s 21ms/step - loss: 0.0064\n",
            "Epoch 36/300\n",
            "13/13 [==============================] - 0s 21ms/step - loss: 0.0063\n",
            "Epoch 37/300\n",
            "13/13 [==============================] - 0s 21ms/step - loss: 0.0065\n",
            "Epoch 38/300\n",
            "13/13 [==============================] - 0s 21ms/step - loss: 0.0060\n",
            "Epoch 39/300\n",
            "13/13 [==============================] - 0s 21ms/step - loss: 0.0060\n",
            "Epoch 40/300\n",
            "13/13 [==============================] - 0s 21ms/step - loss: 0.0065\n",
            "Epoch 41/300\n",
            "13/13 [==============================] - 0s 21ms/step - loss: 0.0056\n",
            "Epoch 42/300\n",
            "13/13 [==============================] - 0s 21ms/step - loss: 0.0055\n",
            "Epoch 43/300\n",
            "13/13 [==============================] - 0s 21ms/step - loss: 0.0053\n",
            "Epoch 44/300\n",
            "13/13 [==============================] - 0s 21ms/step - loss: 0.0055\n",
            "Epoch 45/300\n",
            "13/13 [==============================] - 0s 20ms/step - loss: 0.0058\n",
            "Epoch 46/300\n",
            "13/13 [==============================] - 0s 20ms/step - loss: 0.0052\n",
            "Epoch 47/300\n",
            "13/13 [==============================] - 0s 20ms/step - loss: 0.0057\n",
            "Epoch 48/300\n",
            "13/13 [==============================] - 0s 21ms/step - loss: 0.0054\n",
            "Epoch 49/300\n",
            "13/13 [==============================] - 0s 21ms/step - loss: 0.0056\n",
            "Epoch 50/300\n",
            "13/13 [==============================] - 0s 21ms/step - loss: 0.0055\n",
            "Epoch 51/300\n",
            "13/13 [==============================] - 0s 22ms/step - loss: 0.0054\n",
            "Epoch 52/300\n",
            "13/13 [==============================] - 0s 21ms/step - loss: 0.0048\n",
            "Epoch 53/300\n",
            "13/13 [==============================] - 0s 21ms/step - loss: 0.0046\n",
            "Epoch 54/300\n",
            "13/13 [==============================] - 0s 22ms/step - loss: 0.0048\n",
            "Epoch 55/300\n",
            "13/13 [==============================] - 0s 21ms/step - loss: 0.0051\n",
            "Epoch 56/300\n",
            "13/13 [==============================] - 0s 21ms/step - loss: 0.0044\n",
            "Epoch 57/300\n",
            "13/13 [==============================] - 0s 20ms/step - loss: 0.0044\n",
            "Epoch 58/300\n",
            "13/13 [==============================] - 0s 20ms/step - loss: 0.0046\n",
            "Epoch 59/300\n",
            "13/13 [==============================] - 0s 21ms/step - loss: 0.0043\n",
            "Epoch 60/300\n",
            "13/13 [==============================] - 0s 20ms/step - loss: 0.0043\n",
            "Epoch 61/300\n",
            "13/13 [==============================] - 0s 21ms/step - loss: 0.0044\n",
            "Epoch 62/300\n",
            "13/13 [==============================] - 0s 21ms/step - loss: 0.0039\n",
            "Epoch 63/300\n",
            "13/13 [==============================] - 0s 21ms/step - loss: 0.0039\n",
            "Epoch 64/300\n",
            "13/13 [==============================] - 0s 20ms/step - loss: 0.0039\n",
            "Epoch 65/300\n",
            "13/13 [==============================] - 0s 20ms/step - loss: 0.0045\n",
            "Epoch 66/300\n",
            "13/13 [==============================] - 0s 20ms/step - loss: 0.0038\n",
            "Epoch 67/300\n",
            "13/13 [==============================] - 0s 21ms/step - loss: 0.0035\n",
            "Epoch 68/300\n",
            "13/13 [==============================] - 0s 20ms/step - loss: 0.0033\n",
            "Epoch 69/300\n",
            "13/13 [==============================] - 0s 21ms/step - loss: 0.0031\n",
            "Epoch 70/300\n",
            "13/13 [==============================] - 0s 20ms/step - loss: 0.0031\n",
            "Epoch 71/300\n",
            "13/13 [==============================] - 0s 21ms/step - loss: 0.0028\n",
            "Epoch 72/300\n",
            "13/13 [==============================] - 0s 20ms/step - loss: 0.0027\n",
            "Epoch 73/300\n",
            "13/13 [==============================] - 0s 21ms/step - loss: 0.0026\n",
            "Epoch 74/300\n",
            "13/13 [==============================] - 0s 20ms/step - loss: 0.0031\n",
            "Epoch 75/300\n",
            "13/13 [==============================] - 0s 21ms/step - loss: 0.0024\n",
            "Epoch 76/300\n",
            "13/13 [==============================] - 0s 21ms/step - loss: 0.0026\n",
            "Epoch 77/300\n",
            "13/13 [==============================] - 0s 21ms/step - loss: 0.0042\n",
            "Epoch 78/300\n",
            "13/13 [==============================] - 0s 20ms/step - loss: 0.0037\n",
            "Epoch 79/300\n",
            "13/13 [==============================] - 0s 21ms/step - loss: 0.0026\n",
            "Epoch 80/300\n",
            "13/13 [==============================] - 0s 20ms/step - loss: 0.0022\n",
            "Epoch 81/300\n",
            "13/13 [==============================] - 0s 21ms/step - loss: 0.0021\n",
            "Epoch 82/300\n",
            "13/13 [==============================] - 0s 21ms/step - loss: 0.0022\n",
            "Epoch 83/300\n",
            "13/13 [==============================] - 0s 23ms/step - loss: 0.0020\n",
            "Epoch 84/300\n",
            "13/13 [==============================] - 0s 26ms/step - loss: 0.0020\n",
            "Epoch 85/300\n",
            "13/13 [==============================] - 0s 24ms/step - loss: 0.0020\n",
            "Epoch 86/300\n",
            "13/13 [==============================] - 0s 24ms/step - loss: 0.0019\n",
            "Epoch 87/300\n",
            "13/13 [==============================] - 0s 19ms/step - loss: 0.0024\n",
            "Epoch 88/300\n",
            "13/13 [==============================] - 0s 20ms/step - loss: 0.0024\n",
            "Epoch 89/300\n",
            "13/13 [==============================] - 0s 20ms/step - loss: 0.0021\n",
            "Epoch 90/300\n",
            "13/13 [==============================] - 0s 21ms/step - loss: 0.0019\n",
            "Epoch 91/300\n",
            "13/13 [==============================] - 0s 24ms/step - loss: 0.0024\n",
            "Epoch 92/300\n",
            "13/13 [==============================] - 0s 20ms/step - loss: 0.0020\n",
            "Epoch 93/300\n",
            "13/13 [==============================] - 0s 19ms/step - loss: 0.0018\n",
            "Epoch 94/300\n",
            "13/13 [==============================] - 0s 19ms/step - loss: 0.0018\n",
            "Epoch 95/300\n",
            "13/13 [==============================] - 0s 21ms/step - loss: 0.0019\n",
            "Epoch 96/300\n",
            "13/13 [==============================] - 0s 23ms/step - loss: 0.0017\n",
            "Epoch 97/300\n",
            "13/13 [==============================] - 0s 20ms/step - loss: 0.0017\n",
            "Epoch 98/300\n",
            "13/13 [==============================] - 0s 19ms/step - loss: 0.0018\n",
            "Epoch 99/300\n",
            "13/13 [==============================] - 0s 23ms/step - loss: 0.0018\n",
            "Epoch 100/300\n",
            "13/13 [==============================] - 0s 20ms/step - loss: 0.0018\n",
            "Epoch 101/300\n",
            "13/13 [==============================] - 0s 20ms/step - loss: 0.0024\n",
            "Epoch 102/300\n",
            "13/13 [==============================] - 0s 19ms/step - loss: 0.0020\n",
            "Epoch 103/300\n",
            "13/13 [==============================] - 0s 20ms/step - loss: 0.0025\n",
            "Epoch 104/300\n",
            "13/13 [==============================] - 0s 19ms/step - loss: 0.0021\n",
            "Epoch 105/300\n",
            "13/13 [==============================] - 0s 19ms/step - loss: 0.0026\n",
            "Epoch 106/300\n",
            "13/13 [==============================] - 0s 21ms/step - loss: 0.0021\n",
            "Epoch 107/300\n",
            "13/13 [==============================] - 0s 20ms/step - loss: 0.0023\n",
            "Epoch 108/300\n",
            "13/13 [==============================] - 0s 19ms/step - loss: 0.0020\n",
            "Epoch 109/300\n",
            "13/13 [==============================] - 0s 22ms/step - loss: 0.0019\n",
            "Epoch 110/300\n",
            "13/13 [==============================] - 0s 22ms/step - loss: 0.0017\n",
            "Epoch 111/300\n",
            "13/13 [==============================] - 0s 19ms/step - loss: 0.0018\n",
            "Epoch 112/300\n",
            "13/13 [==============================] - 0s 23ms/step - loss: 0.0017\n",
            "Epoch 113/300\n",
            "13/13 [==============================] - 0s 21ms/step - loss: 0.0017\n",
            "Epoch 114/300\n",
            "13/13 [==============================] - 0s 24ms/step - loss: 0.0017\n",
            "Epoch 115/300\n",
            "13/13 [==============================] - 0s 19ms/step - loss: 0.0020\n",
            "Epoch 116/300\n",
            "13/13 [==============================] - 0s 19ms/step - loss: 0.0021\n",
            "Epoch 117/300\n",
            "13/13 [==============================] - 0s 19ms/step - loss: 0.0021\n",
            "Epoch 118/300\n",
            "13/13 [==============================] - 0s 19ms/step - loss: 0.0020\n",
            "Epoch 119/300\n",
            "13/13 [==============================] - 0s 19ms/step - loss: 0.0017\n",
            "Epoch 120/300\n",
            "13/13 [==============================] - 0s 19ms/step - loss: 0.0017\n",
            "Epoch 121/300\n",
            "13/13 [==============================] - 0s 19ms/step - loss: 0.0016\n",
            "Epoch 122/300\n",
            "13/13 [==============================] - 0s 19ms/step - loss: 0.0017\n",
            "Epoch 123/300\n",
            "13/13 [==============================] - 0s 18ms/step - loss: 0.0016\n",
            "Epoch 124/300\n",
            "13/13 [==============================] - 0s 19ms/step - loss: 0.0019\n",
            "Epoch 125/300\n",
            "13/13 [==============================] - 0s 19ms/step - loss: 0.0017\n",
            "Epoch 126/300\n",
            "13/13 [==============================] - 0s 19ms/step - loss: 0.0017\n",
            "Epoch 127/300\n",
            "13/13 [==============================] - 0s 19ms/step - loss: 0.0019\n",
            "Epoch 128/300\n",
            "13/13 [==============================] - 0s 20ms/step - loss: 0.0019\n",
            "Epoch 129/300\n",
            "13/13 [==============================] - 0s 19ms/step - loss: 0.0017\n",
            "Epoch 130/300\n",
            "13/13 [==============================] - 0s 19ms/step - loss: 0.0016\n",
            "Epoch 131/300\n",
            "13/13 [==============================] - 0s 21ms/step - loss: 0.0017\n",
            "Epoch 132/300\n",
            "13/13 [==============================] - 0s 22ms/step - loss: 0.0018\n",
            "Epoch 133/300\n",
            "13/13 [==============================] - 0s 20ms/step - loss: 0.0017\n",
            "Epoch 134/300\n",
            "13/13 [==============================] - 0s 20ms/step - loss: 0.0015\n",
            "Epoch 135/300\n",
            "13/13 [==============================] - 0s 23ms/step - loss: 0.0015\n",
            "Epoch 136/300\n",
            "13/13 [==============================] - 0s 20ms/step - loss: 0.0018\n",
            "Epoch 137/300\n",
            "13/13 [==============================] - 0s 18ms/step - loss: 0.0018\n",
            "Epoch 138/300\n",
            "13/13 [==============================] - 0s 19ms/step - loss: 0.0018\n",
            "Epoch 139/300\n",
            "13/13 [==============================] - 0s 19ms/step - loss: 0.0018\n",
            "Epoch 140/300\n",
            "13/13 [==============================] - 0s 19ms/step - loss: 0.0016\n",
            "Epoch 141/300\n",
            "13/13 [==============================] - 0s 20ms/step - loss: 0.0017\n",
            "Epoch 142/300\n",
            "13/13 [==============================] - 0s 18ms/step - loss: 0.0019\n",
            "Epoch 143/300\n",
            "13/13 [==============================] - 0s 21ms/step - loss: 0.0018\n",
            "Epoch 144/300\n",
            "13/13 [==============================] - 0s 22ms/step - loss: 0.0021\n",
            "Epoch 145/300\n",
            "13/13 [==============================] - 0s 19ms/step - loss: 0.0016\n",
            "Epoch 146/300\n",
            "13/13 [==============================] - 0s 19ms/step - loss: 0.0016\n",
            "Epoch 147/300\n",
            "13/13 [==============================] - 0s 22ms/step - loss: 0.0018\n",
            "Epoch 148/300\n",
            "13/13 [==============================] - 0s 26ms/step - loss: 0.0016\n",
            "Epoch 149/300\n",
            "13/13 [==============================] - 0s 21ms/step - loss: 0.0016\n",
            "Epoch 150/300\n",
            "13/13 [==============================] - 0s 25ms/step - loss: 0.0016\n",
            "Epoch 151/300\n",
            "13/13 [==============================] - 0s 22ms/step - loss: 0.0016\n",
            "Epoch 152/300\n",
            "13/13 [==============================] - 0s 22ms/step - loss: 0.0017\n",
            "Epoch 153/300\n",
            "13/13 [==============================] - 0s 25ms/step - loss: 0.0016\n",
            "Epoch 154/300\n",
            "13/13 [==============================] - 0s 26ms/step - loss: 0.0015\n",
            "Epoch 155/300\n",
            "13/13 [==============================] - 0s 26ms/step - loss: 0.0017\n",
            "Epoch 156/300\n",
            "13/13 [==============================] - 0s 22ms/step - loss: 0.0016\n",
            "Epoch 157/300\n",
            "13/13 [==============================] - 0s 22ms/step - loss: 0.0017\n",
            "Epoch 158/300\n",
            "13/13 [==============================] - 0s 24ms/step - loss: 0.0015\n",
            "Epoch 159/300\n",
            "13/13 [==============================] - 0s 24ms/step - loss: 0.0015\n",
            "Epoch 160/300\n",
            "13/13 [==============================] - 0s 23ms/step - loss: 0.0017\n",
            "Epoch 161/300\n",
            "13/13 [==============================] - 0s 21ms/step - loss: 0.0015\n",
            "Epoch 162/300\n",
            "13/13 [==============================] - 0s 23ms/step - loss: 0.0017\n",
            "Epoch 163/300\n",
            "13/13 [==============================] - 0s 23ms/step - loss: 0.0017\n",
            "Epoch 164/300\n",
            "13/13 [==============================] - 0s 22ms/step - loss: 0.0019\n",
            "Epoch 165/300\n",
            "13/13 [==============================] - 0s 20ms/step - loss: 0.0017\n",
            "Epoch 166/300\n",
            "13/13 [==============================] - 0s 19ms/step - loss: 0.0019\n",
            "Epoch 167/300\n",
            "13/13 [==============================] - 0s 20ms/step - loss: 0.0017\n",
            "Epoch 168/300\n",
            "13/13 [==============================] - 0s 19ms/step - loss: 0.0018\n",
            "Epoch 169/300\n",
            "13/13 [==============================] - 0s 18ms/step - loss: 0.0017\n",
            "Epoch 170/300\n",
            "13/13 [==============================] - 0s 19ms/step - loss: 0.0015\n",
            "Epoch 171/300\n",
            "13/13 [==============================] - 0s 19ms/step - loss: 0.0015\n",
            "Epoch 172/300\n",
            "13/13 [==============================] - 0s 23ms/step - loss: 0.0015\n",
            "Epoch 173/300\n",
            "13/13 [==============================] - 0s 21ms/step - loss: 0.0015\n",
            "Epoch 174/300\n",
            "13/13 [==============================] - 0s 19ms/step - loss: 0.0016\n",
            "Epoch 175/300\n",
            "13/13 [==============================] - 0s 18ms/step - loss: 0.0017\n",
            "Epoch 176/300\n",
            "13/13 [==============================] - 0s 20ms/step - loss: 0.0015\n",
            "Epoch 177/300\n",
            "13/13 [==============================] - 0s 19ms/step - loss: 0.0015\n",
            "Epoch 178/300\n",
            "13/13 [==============================] - 0s 19ms/step - loss: 0.0014\n",
            "Epoch 179/300\n",
            "13/13 [==============================] - 0s 18ms/step - loss: 0.0018\n",
            "Epoch 180/300\n",
            "13/13 [==============================] - 0s 18ms/step - loss: 0.0015\n",
            "Epoch 181/300\n",
            "13/13 [==============================] - 0s 19ms/step - loss: 0.0015\n",
            "Epoch 182/300\n",
            "13/13 [==============================] - 0s 20ms/step - loss: 0.0015\n",
            "Epoch 183/300\n",
            "13/13 [==============================] - 0s 19ms/step - loss: 0.0015\n",
            "Epoch 184/300\n",
            "13/13 [==============================] - 0s 20ms/step - loss: 0.0018\n",
            "Epoch 185/300\n",
            "13/13 [==============================] - 0s 19ms/step - loss: 0.0016\n",
            "Epoch 186/300\n",
            "13/13 [==============================] - 0s 19ms/step - loss: 0.0017\n",
            "Epoch 187/300\n",
            "13/13 [==============================] - 0s 19ms/step - loss: 0.0017\n",
            "Epoch 188/300\n",
            "13/13 [==============================] - 0s 19ms/step - loss: 0.0019\n",
            "Epoch 189/300\n",
            "13/13 [==============================] - 0s 19ms/step - loss: 0.0016\n",
            "Epoch 190/300\n",
            "13/13 [==============================] - 0s 19ms/step - loss: 0.0018\n",
            "Epoch 191/300\n",
            "13/13 [==============================] - 0s 20ms/step - loss: 0.0016\n",
            "Epoch 192/300\n",
            "13/13 [==============================] - 0s 21ms/step - loss: 0.0014\n",
            "Epoch 193/300\n",
            "13/13 [==============================] - 0s 20ms/step - loss: 0.0014\n",
            "Epoch 194/300\n",
            "13/13 [==============================] - 0s 20ms/step - loss: 0.0014\n",
            "Epoch 195/300\n",
            "13/13 [==============================] - 0s 22ms/step - loss: 0.0014\n",
            "Epoch 196/300\n",
            "13/13 [==============================] - 0s 22ms/step - loss: 0.0015\n",
            "Epoch 197/300\n",
            "13/13 [==============================] - 0s 25ms/step - loss: 0.0016\n",
            "Epoch 198/300\n",
            "13/13 [==============================] - 0s 25ms/step - loss: 0.0016\n",
            "Epoch 199/300\n",
            "13/13 [==============================] - 0s 22ms/step - loss: 0.0015\n",
            "Epoch 200/300\n",
            "13/13 [==============================] - 0s 23ms/step - loss: 0.0015\n",
            "Epoch 201/300\n",
            "13/13 [==============================] - 0s 22ms/step - loss: 0.0016\n",
            "Epoch 202/300\n",
            "13/13 [==============================] - 0s 23ms/step - loss: 0.0015\n",
            "Epoch 203/300\n",
            "13/13 [==============================] - 0s 19ms/step - loss: 0.0016\n",
            "Epoch 204/300\n",
            "13/13 [==============================] - 0s 22ms/step - loss: 0.0016\n",
            "Epoch 205/300\n",
            "13/13 [==============================] - 0s 22ms/step - loss: 0.0015\n",
            "Epoch 206/300\n",
            "13/13 [==============================] - 0s 18ms/step - loss: 0.0014\n",
            "Epoch 207/300\n",
            "13/13 [==============================] - 0s 19ms/step - loss: 0.0016\n",
            "Epoch 208/300\n",
            "13/13 [==============================] - 0s 19ms/step - loss: 0.0014\n",
            "Epoch 209/300\n",
            "13/13 [==============================] - 0s 19ms/step - loss: 0.0015\n",
            "Epoch 210/300\n",
            "13/13 [==============================] - 0s 18ms/step - loss: 0.0015\n",
            "Epoch 211/300\n",
            "13/13 [==============================] - 0s 19ms/step - loss: 0.0017\n",
            "Epoch 212/300\n",
            "13/13 [==============================] - 0s 22ms/step - loss: 0.0017\n",
            "Epoch 213/300\n",
            "13/13 [==============================] - 0s 22ms/step - loss: 0.0015\n",
            "Epoch 214/300\n",
            "13/13 [==============================] - 0s 22ms/step - loss: 0.0016\n",
            "Epoch 215/300\n",
            "13/13 [==============================] - 0s 22ms/step - loss: 0.0014\n",
            "Epoch 216/300\n",
            "13/13 [==============================] - 0s 22ms/step - loss: 0.0016\n",
            "Epoch 217/300\n",
            "13/13 [==============================] - 0s 22ms/step - loss: 0.0016\n",
            "Epoch 218/300\n",
            "13/13 [==============================] - 0s 21ms/step - loss: 0.0014\n",
            "Epoch 219/300\n",
            "13/13 [==============================] - 0s 18ms/step - loss: 0.0014\n",
            "Epoch 220/300\n",
            "13/13 [==============================] - 0s 18ms/step - loss: 0.0013\n",
            "Epoch 221/300\n",
            "13/13 [==============================] - 0s 18ms/step - loss: 0.0015\n",
            "Epoch 222/300\n",
            "13/13 [==============================] - 0s 20ms/step - loss: 0.0015\n",
            "Epoch 223/300\n",
            "13/13 [==============================] - 0s 20ms/step - loss: 0.0015\n",
            "Epoch 224/300\n",
            "13/13 [==============================] - 0s 19ms/step - loss: 0.0015\n",
            "Epoch 225/300\n",
            "13/13 [==============================] - 0s 18ms/step - loss: 0.0015\n",
            "Epoch 226/300\n",
            "13/13 [==============================] - 0s 20ms/step - loss: 0.0014\n",
            "Epoch 227/300\n",
            "13/13 [==============================] - 0s 22ms/step - loss: 0.0015\n",
            "Epoch 228/300\n",
            "13/13 [==============================] - 0s 20ms/step - loss: 0.0015\n",
            "Epoch 229/300\n",
            "13/13 [==============================] - 0s 18ms/step - loss: 0.0016\n",
            "Epoch 230/300\n",
            "13/13 [==============================] - 0s 21ms/step - loss: 0.0016\n",
            "Epoch 231/300\n",
            "13/13 [==============================] - 0s 19ms/step - loss: 0.0017\n",
            "Epoch 232/300\n",
            "13/13 [==============================] - 0s 19ms/step - loss: 0.0014\n",
            "Epoch 233/300\n",
            "13/13 [==============================] - 0s 19ms/step - loss: 0.0013\n",
            "Epoch 234/300\n",
            "13/13 [==============================] - 0s 19ms/step - loss: 0.0015\n",
            "Epoch 235/300\n",
            "13/13 [==============================] - 0s 22ms/step - loss: 0.0019\n",
            "Epoch 236/300\n",
            "13/13 [==============================] - 0s 20ms/step - loss: 0.0017\n",
            "Epoch 237/300\n",
            "13/13 [==============================] - 0s 21ms/step - loss: 0.0015\n",
            "Epoch 238/300\n",
            "13/13 [==============================] - 0s 21ms/step - loss: 0.0015\n",
            "Epoch 239/300\n",
            "13/13 [==============================] - 0s 19ms/step - loss: 0.0016\n",
            "Epoch 240/300\n",
            "13/13 [==============================] - 0s 25ms/step - loss: 0.0015\n",
            "Epoch 241/300\n",
            "13/13 [==============================] - 0s 20ms/step - loss: 0.0014\n",
            "Epoch 242/300\n",
            "13/13 [==============================] - 0s 20ms/step - loss: 0.0017\n",
            "Epoch 243/300\n",
            "13/13 [==============================] - 0s 19ms/step - loss: 0.0018\n",
            "Epoch 244/300\n",
            "13/13 [==============================] - 0s 19ms/step - loss: 0.0017\n",
            "Epoch 245/300\n",
            "13/13 [==============================] - 0s 24ms/step - loss: 0.0017\n",
            "Epoch 246/300\n",
            "13/13 [==============================] - 0s 20ms/step - loss: 0.0015\n",
            "Epoch 247/300\n",
            "13/13 [==============================] - 0s 20ms/step - loss: 0.0013\n",
            "Epoch 248/300\n",
            "13/13 [==============================] - 0s 20ms/step - loss: 0.0013\n",
            "Epoch 249/300\n",
            "13/13 [==============================] - 0s 19ms/step - loss: 0.0013\n",
            "Epoch 250/300\n",
            "13/13 [==============================] - 0s 20ms/step - loss: 0.0014\n",
            "Epoch 251/300\n",
            "13/13 [==============================] - 0s 19ms/step - loss: 0.0014\n",
            "Epoch 252/300\n",
            "13/13 [==============================] - 0s 20ms/step - loss: 0.0014\n",
            "Epoch 253/300\n",
            "13/13 [==============================] - 0s 20ms/step - loss: 0.0015\n",
            "Epoch 254/300\n",
            "13/13 [==============================] - 0s 20ms/step - loss: 0.0016\n",
            "Epoch 255/300\n",
            "13/13 [==============================] - 0s 27ms/step - loss: 0.0015\n",
            "Epoch 256/300\n",
            "13/13 [==============================] - 0s 21ms/step - loss: 0.0013\n",
            "Epoch 257/300\n",
            "13/13 [==============================] - 0s 20ms/step - loss: 0.0012\n",
            "Epoch 258/300\n",
            "13/13 [==============================] - 0s 20ms/step - loss: 0.0012\n",
            "Epoch 259/300\n",
            "13/13 [==============================] - 0s 21ms/step - loss: 0.0013\n",
            "Epoch 260/300\n",
            "13/13 [==============================] - 0s 20ms/step - loss: 0.0012\n",
            "Epoch 261/300\n",
            "13/13 [==============================] - 0s 20ms/step - loss: 0.0013\n",
            "Epoch 262/300\n",
            "13/13 [==============================] - 0s 19ms/step - loss: 0.0013\n",
            "Epoch 263/300\n",
            "13/13 [==============================] - 0s 20ms/step - loss: 0.0014\n",
            "Epoch 264/300\n",
            "13/13 [==============================] - 0s 20ms/step - loss: 0.0012\n",
            "Epoch 265/300\n",
            "13/13 [==============================] - 0s 20ms/step - loss: 0.0012\n",
            "Epoch 266/300\n",
            "13/13 [==============================] - 0s 20ms/step - loss: 0.0012\n",
            "Epoch 267/300\n",
            "13/13 [==============================] - 0s 21ms/step - loss: 0.0011\n",
            "Epoch 268/300\n",
            "13/13 [==============================] - 0s 20ms/step - loss: 0.0014\n",
            "Epoch 269/300\n",
            "13/13 [==============================] - 0s 20ms/step - loss: 0.0015\n",
            "Epoch 270/300\n",
            "13/13 [==============================] - 0s 21ms/step - loss: 0.0013\n",
            "Epoch 271/300\n",
            "13/13 [==============================] - 0s 21ms/step - loss: 0.0012\n",
            "Epoch 272/300\n",
            "13/13 [==============================] - 0s 21ms/step - loss: 0.0014\n",
            "Epoch 273/300\n",
            "13/13 [==============================] - 0s 21ms/step - loss: 0.0013\n",
            "Epoch 274/300\n",
            "13/13 [==============================] - 0s 21ms/step - loss: 0.0011\n",
            "Epoch 275/300\n",
            "13/13 [==============================] - 0s 21ms/step - loss: 0.0012\n",
            "Epoch 276/300\n",
            "13/13 [==============================] - 0s 21ms/step - loss: 0.0013\n",
            "Epoch 277/300\n",
            "13/13 [==============================] - 0s 20ms/step - loss: 0.0013\n",
            "Epoch 278/300\n",
            "13/13 [==============================] - 0s 21ms/step - loss: 0.0012\n",
            "Epoch 279/300\n",
            "13/13 [==============================] - 0s 20ms/step - loss: 0.0011\n",
            "Epoch 280/300\n",
            "13/13 [==============================] - 0s 20ms/step - loss: 0.0011\n",
            "Epoch 281/300\n",
            "13/13 [==============================] - 0s 20ms/step - loss: 0.0012\n",
            "Epoch 282/300\n",
            "13/13 [==============================] - 0s 21ms/step - loss: 0.0011\n",
            "Epoch 283/300\n",
            "13/13 [==============================] - 0s 20ms/step - loss: 0.0017\n",
            "Epoch 284/300\n",
            "13/13 [==============================] - 0s 20ms/step - loss: 0.0017\n",
            "Epoch 285/300\n",
            "13/13 [==============================] - 0s 21ms/step - loss: 0.0013\n",
            "Epoch 286/300\n",
            "13/13 [==============================] - 0s 21ms/step - loss: 0.0012\n",
            "Epoch 287/300\n",
            "13/13 [==============================] - 0s 21ms/step - loss: 0.0012\n",
            "Epoch 288/300\n",
            "13/13 [==============================] - 0s 22ms/step - loss: 0.0011\n",
            "Epoch 289/300\n",
            "13/13 [==============================] - 0s 22ms/step - loss: 0.0011\n",
            "Epoch 290/300\n",
            "13/13 [==============================] - 0s 20ms/step - loss: 0.0011\n",
            "Epoch 291/300\n",
            "13/13 [==============================] - 0s 22ms/step - loss: 0.0011\n",
            "Epoch 292/300\n",
            "13/13 [==============================] - 0s 23ms/step - loss: 0.0011\n",
            "Epoch 293/300\n",
            "13/13 [==============================] - 0s 22ms/step - loss: 0.0011\n",
            "Epoch 294/300\n",
            "13/13 [==============================] - 0s 19ms/step - loss: 0.0011\n",
            "Epoch 295/300\n",
            "13/13 [==============================] - 0s 19ms/step - loss: 0.0013\n",
            "Epoch 296/300\n",
            "13/13 [==============================] - 0s 20ms/step - loss: 0.0014\n",
            "Epoch 297/300\n",
            "13/13 [==============================] - 0s 19ms/step - loss: 0.0014\n",
            "Epoch 298/300\n",
            "13/13 [==============================] - 0s 19ms/step - loss: 0.0011\n",
            "Epoch 299/300\n",
            "13/13 [==============================] - 0s 20ms/step - loss: 0.0013\n",
            "Epoch 300/300\n",
            "13/13 [==============================] - 0s 20ms/step - loss: 0.0012\n"
          ]
        },
        {
          "data": {
            "text/plain": [
              "<tensorflow.python.keras.callbacks.History at 0x1b91476ea30>"
            ]
          },
          "execution_count": 15,
          "metadata": {},
          "output_type": "execute_result"
        }
      ],
      "source": [
        "regressor.fit(X_train, y_train, epochs=300, batch_size=32)"
      ]
    },
    {
      "cell_type": "markdown",
      "metadata": {
        "colab_type": "text",
        "id": "4hRau_lIkrE8"
      },
      "source": [
        "## Part 3 - Making the predictions and visualising the results"
      ]
    },
    {
      "attachments": {},
      "cell_type": "markdown",
      "metadata": {
        "colab_type": "text",
        "id": "SgJO6qEDksxD"
      },
      "source": [
        "### Getting the real T10Y2Y "
      ]
    },
    {
      "cell_type": "code",
      "execution_count": 16,
      "metadata": {
        "colab": {},
        "colab_type": "code",
        "id": "FmBT2zqukxTz"
      },
      "outputs": [],
      "source": [
        "real_T10Y2Y_data = dataset_test.iloc[:, 1:2].values"
      ]
    },
    {
      "attachments": {},
      "cell_type": "markdown",
      "metadata": {
        "colab_type": "text",
        "id": "GrvrLblxkz42"
      },
      "source": [
        "### Getting the predicted T10Y2Y"
      ]
    },
    {
      "cell_type": "code",
      "execution_count": 17,
      "metadata": {
        "colab": {},
        "colab_type": "code",
        "id": "emikTvUpk3Ck"
      },
      "outputs": [],
      "source": [
        "dataset_total = pd.concat((dataset_train['T10Y2Y'], dataset_test['T10Y2Y']), axis = 0)\n",
        "inputs = dataset_total[len(dataset_total) - len(dataset_test) - timestep:].values\n",
        "inputs = inputs.reshape(-1,1)\n",
        "inputs = sc.transform(inputs)\n",
        "X_test = []\n",
        "for i in range(timestep, len(dataset_test)+timestep):\n",
        "    X_test.append(inputs[i-timestep:i, 0])\n",
        "X_test = np.array(X_test)\n",
        "X_test = np.reshape(X_test, (X_test.shape[0], X_test.shape[1], 1))\n",
        "predicted = regressor.predict(X_test)\n",
        "predicted = sc.inverse_transform(predicted)"
      ]
    },
    {
      "cell_type": "markdown",
      "metadata": {
        "colab_type": "text",
        "id": "iFTNs3YHk6FQ"
      },
      "source": [
        "### Visualising the results"
      ]
    },
    {
      "cell_type": "code",
      "execution_count": 18,
      "metadata": {
        "colab": {
          "base_uri": "https://localhost:8080/",
          "height": 295
        },
        "colab_type": "code",
        "id": "8OUI8U49k9tH",
        "outputId": "db0ed15e-071b-4bae-955e-0eda3df95238"
      },
      "outputs": [
        {
          "data": {
            "image/png": "[encoded data removed]",
            "text/plain": [
              "<Figure size 640x480 with 1 Axes>"
            ]
          },
          "metadata": {},
          "output_type": "display_data"
        }
      ],
      "source": [
        "plt.plot(real_T10Y2Y_data, color = 'red', label = 'Real T10Y2Y')\n",
        "plt.plot(predicted, color = 'blue', label = 'Predicted T10Y2Y')\n",
        "plt.title('T10Y2Y Prediction')\n",
        "plt.xlabel('Date')\n",
        "plt.ylabel('T10Y2Y')\n",
        "plt.legend()\n",
        "plt.show()"
      ]
    },
    {
      "cell_type": "code",
      "execution_count": 19,
      "metadata": {},
      "outputs": [],
      "source": [
        "# save predicted values\n",
        "predicted_df = pd.DataFrame(predicted)"
      ]
    },
    {
      "cell_type": "code",
      "execution_count": 20,
      "metadata": {},
      "outputs": [
        {
          "name": "stdout",
          "output_type": "stream",
          "text": [
            "Model: \"sequential\"\n",
            "_________________________________________________________________\n",
            "Layer (type)                 Output Shape              Param #   \n",
            "=================================================================\n",
            "lstm (LSTM)                  (None, 36, 50)            10400     \n",
            "_________________________________________________________________\n",
            "lstm_1 (LSTM)                (None, 36, 50)            20200     \n",
            "_________________________________________________________________\n",
            "lstm_2 (LSTM)                (None, 36, 50)            20200     \n",
            "_________________________________________________________________\n",
            "lstm_3 (LSTM)                (None, 50)                20200     \n",
            "_________________________________________________________________\n",
            "dense (Dense)                (None, 1)                 51        \n",
            "=================================================================\n",
            "Total params: 71,051\n",
            "Trainable params: 71,051\n",
            "Non-trainable params: 0\n",
            "_________________________________________________________________\n"
          ]
        }
      ],
      "source": [
        "regressor.summary()"
      ]
    },
    {
      "cell_type": "code",
      "execution_count": 21,
      "metadata": {},
      "outputs": [],
      "source": [
        "#regressor.save('model_best_current_2.h5')"
      ]
    }
  ],
  "metadata": {
    "colab": {
      "collapsed_sections": [],
      "name": "recurrent_neural_network.ipynb",
      "provenance": []
    },
    "kernelspec": {
      "display_name": "base",
      "language": "python",
      "name": "python3"
    },
    "language_info": {
      "codemirror_mode": {
        "name": "ipython",
        "version": 3
      },
      "file_extension": ".py",
      "mimetype": "text/x-python",
      "name": "python",
      "nbconvert_exporter": "python",
      "pygments_lexer": "ipython3",
      "version": "3.9.13"
    },
    "vscode": {
      "interpreter": {
        "hash": "ad2bdc8ecc057115af97d19610ffacc2b4e99fae6737bb82f5d7fb13d2f2c186"
      }
    }
  },
  "nbformat": 4,
  "nbformat_minor": 0
}
