{
 "cells": [
  {
   "cell_type": "code",
   "execution_count": 2,
   "metadata": {},
   "outputs": [],
   "source": [
    "from keras.models import load_model\n",
    "from keras.callbacks import History \n",
    "import numpy as np\n",
    "import matplotlib.pyplot as plt\n",
    "import pandas as pd\n",
    "from sklearn.model_selection import train_test_split"
   ]
  },
  {
   "cell_type": "code",
   "execution_count": 3,
   "metadata": {},
   "outputs": [],
   "source": [
    "df = pd.read_csv('Result_Prediction.csv')"
   ]
  },
  {
   "cell_type": "code",
   "execution_count": 4,
   "metadata": {},
   "outputs": [],
   "source": [
    "dataset = pd.read_csv('recession_factor_dataset_v3.csv')\n",
    "X = dataset.iloc[:, 1:-1].values\n",
    "y = dataset.iloc[:, -1].values"
   ]
  },
  {
   "cell_type": "code",
   "execution_count": 5,
   "metadata": {},
   "outputs": [],
   "source": [
    "from sklearn.model_selection import train_test_split\n",
    "X_train, X_test, y_train, y_test = train_test_split(X, y, test_size = 0.1, random_state = 0)"
   ]
  },
  {
   "cell_type": "code",
   "execution_count": 6,
   "metadata": {},
   "outputs": [],
   "source": [
    "from sklearn.preprocessing import StandardScaler\n",
    "sc = StandardScaler()\n",
    "X_train = sc.fit_transform(X_train)\n",
    "X_test = sc.transform(X_test)"
   ]
  },
  {
   "cell_type": "code",
   "execution_count": 7,
   "metadata": {},
   "outputs": [],
   "source": [
    "recession_predictor = load_model('model_new.h5')"
   ]
  },
  {
   "cell_type": "code",
   "execution_count": 8,
   "metadata": {},
   "outputs": [
    {
     "name": "stdout",
     "output_type": "stream",
     "text": [
      "[[7.1239824e-06]]\n"
     ]
    }
   ],
   "source": [
    "print(recession_predictor.predict(sc.transform([[-0.52110577,\t1343.3595,\t97.70689,\t17755.785,\t3.7308755,\t298.8194]])))"
   ]
  },
  {
   "cell_type": "code",
   "execution_count": 9,
   "metadata": {},
   "outputs": [],
   "source": [
    "data = df.iloc[:].values"
   ]
  },
  {
   "cell_type": "code",
   "execution_count": 14,
   "metadata": {},
   "outputs": [],
   "source": [
    "prediction = []\n",
    "for i in range(0, len(data)):\n",
    "    result = recession_predictor.predict(sc.transform([[data[i][0], data[i][1], data[i][2], data[i][3], data[i][4], data[i][5]]]))\n",
    "    prediction.append(result[0][0])"
   ]
  },
  {
   "cell_type": "code",
   "execution_count": 15,
   "metadata": {},
   "outputs": [
    {
     "name": "stdout",
     "output_type": "stream",
     "text": [
      "[1.952108e-06, 6.7205946e-07, 2.3775821e-07, 1.018153e-07, 8.125216e-08, 7.767937e-08, 6.779763e-08, 3.883404e-08, 1.1561479e-08, 1.8234765e-10, 1.0415163e-12, 3.4788567e-12, 1.4048302e-11, 5.969466e-11, 1.12362994e-10, 7.7786604e-11, 4.1559683e-11, 2.2390067e-11, 1.1288924e-11, 6.607076e-12, 4.432136e-12, 3.678486e-12, 3.872494e-12, 3.713855e-12, 1.7453131e-12, 9.177178e-13, 5.707757e-13, 4.1231894e-13, 3.4743391e-13, 3.318021e-13, 3.470875e-13, 3.8666753e-13, 4.3151024e-13, 4.7017674e-13, 4.817381e-13, 4.782801e-13]\n"
     ]
    }
   ],
   "source": [
    "print(prediction)"
   ]
  },
  {
   "cell_type": "code",
   "execution_count": null,
   "metadata": {},
   "outputs": [],
   "source": [
    "prediction = np.array(prediction)\n",
    "# prediction to csv\n",
    "prediction = pd.DataFrame(prediction)\n",
    "prediction.to_csv('prediction2.csv', index=False)"
   ]
  }
 ],
 "metadata": {
  "kernelspec": {
   "display_name": "base",
   "language": "python",
   "name": "python3"
  },
  "language_info": {
   "codemirror_mode": {
    "name": "ipython",
    "version": 3
   },
   "file_extension": ".py",
   "mimetype": "text/x-python",
   "name": "python",
   "nbconvert_exporter": "python",
   "pygments_lexer": "ipython3",
   "version": "3.9.13"
  },
  "orig_nbformat": 4
 },
 "nbformat": 4,
 "nbformat_minor": 2
}
