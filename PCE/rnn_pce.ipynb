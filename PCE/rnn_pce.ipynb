{
  "cells": [
    {
      "cell_type": "markdown",
      "metadata": {
        "colab_type": "text",
        "id": "xpAuMVCwfWs8"
      },
      "source": [
        "# Recurrent Neural Network"
      ]
    },
    {
      "cell_type": "markdown",
      "metadata": {
        "colab_type": "text",
        "id": "nxJfRe4bfYVA"
      },
      "source": [
        "## Part 1 - Data Preprocessing"
      ]
    },
    {
      "cell_type": "markdown",
      "metadata": {
        "colab_type": "text",
        "id": "ir9zwETrfbrp"
      },
      "source": [
        "### Importing the libraries"
      ]
    },
    {
      "cell_type": "code",
      "execution_count": 41,
      "metadata": {
        "colab": {},
        "colab_type": "code",
        "id": "ZT1f24vHffuf"
      },
      "outputs": [],
      "source": [
        "import numpy as np\n",
        "import matplotlib.pyplot as plt\n",
        "import pandas as pd\n",
        "from sklearn.model_selection import train_test_split"
      ]
    },
    {
      "cell_type": "markdown",
      "metadata": {
        "colab_type": "text",
        "id": "nQ47JAxrgmaL"
      },
      "source": [
        "### Importing the training set"
      ]
    },
    {
      "cell_type": "code",
      "execution_count": 42,
      "metadata": {
        "colab": {},
        "colab_type": "code",
        "id": "1xiv3pJOgqY3"
      },
      "outputs": [],
      "source": [
        "df = pd.read_csv('PCE.csv')\n",
        "# split data into training and testing sets\n",
        "dataset_train, dataset_test = train_test_split(df, test_size=0.2, shuffle=False)\n",
        "training_set = dataset_train.iloc[:, 1:2].values"
      ]
    },
    {
      "cell_type": "code",
      "execution_count": 43,
      "metadata": {},
      "outputs": [
        {
          "data": {
            "text/plain": [
              "\"ArithmeticError\\ndef remove_outliers_zscore(data):\\n    threshold = 3\\n    mean = np.mean(data)\\n    std = np.std(data)\\n    z_scores = [(x - mean) / std for x in data]\\n    return data[(np.abs(z_scores) < threshold)]\\n\\n# apply the function to the column of data containing outliers\\ndataset_test2 = remove_outliers_zscore(dataset_test['PCE'])\\n\\nplt.plot(dataset_test2) \""
            ]
          },
          "execution_count": 43,
          "metadata": {},
          "output_type": "execute_result"
        }
      ],
      "source": [
        "'''ArithmeticError\n",
        "def remove_outliers_zscore(data):\n",
        "    threshold = 3\n",
        "    mean = np.mean(data)\n",
        "    std = np.std(data)\n",
        "    z_scores = [(x - mean) / std for x in data]\n",
        "    return data[(np.abs(z_scores) < threshold)]\n",
        "\n",
        "# apply the function to the column of data containing outliers\n",
        "dataset_test2 = remove_outliers_zscore(dataset_test['PCE'])\n",
        "\n",
        "plt.plot(dataset_test2) '''"
      ]
    },
    {
      "cell_type": "markdown",
      "metadata": {
        "colab_type": "text",
        "id": "HT8_2UJegtG5"
      },
      "source": [
        "### Feature Scaling"
      ]
    },
    {
      "cell_type": "code",
      "execution_count": 44,
      "metadata": {
        "colab": {},
        "colab_type": "code",
        "id": "OTrF2kR7gx9x"
      },
      "outputs": [],
      "source": [
        "from sklearn.preprocessing import MinMaxScaler\n",
        "sc = MinMaxScaler(feature_range = (0, 1))\n",
        "training_set_scaled = sc.fit_transform(training_set)"
      ]
    },
    {
      "cell_type": "markdown",
      "metadata": {
        "colab_type": "text",
        "id": "JyYgYocqhNUg"
      },
      "source": [
        "### Creating a data structure with 60 timesteps and 1 output"
      ]
    },
    {
      "cell_type": "code",
      "execution_count": 45,
      "metadata": {
        "colab": {},
        "colab_type": "code",
        "id": "iofU21B0i6ST"
      },
      "outputs": [],
      "source": [
        "timestep = 36\n",
        "X_train = []\n",
        "y_train = []\n",
        "\n",
        "for i in range(timestep, len(training_set_scaled)):\n",
        "    X_train.append(training_set_scaled[i-timestep:i, 0])\n",
        "    y_train.append(training_set_scaled[i, 0])\n",
        "X_train, y_train = np.array(X_train), np.array(y_train)\n",
        "\n"
      ]
    },
    {
      "cell_type": "markdown",
      "metadata": {
        "colab_type": "text",
        "id": "D8yaN7Zvi95l"
      },
      "source": [
        "### Reshaping"
      ]
    },
    {
      "cell_type": "code",
      "execution_count": 46,
      "metadata": {
        "colab": {},
        "colab_type": "code",
        "id": "FOXqJHmNjBkz"
      },
      "outputs": [],
      "source": [
        "X_train = np.reshape(X_train, (X_train.shape[0], X_train.shape[1], 1))"
      ]
    },
    {
      "cell_type": "markdown",
      "metadata": {
        "colab_type": "text",
        "id": "ZRRSOJeVjEWV"
      },
      "source": [
        "## Part 2 - Building and Training the RNN"
      ]
    },
    {
      "cell_type": "markdown",
      "metadata": {
        "colab_type": "text",
        "id": "k4XV88JMjHXG"
      },
      "source": [
        "### Importing the Keras libraries and packages"
      ]
    },
    {
      "cell_type": "code",
      "execution_count": 47,
      "metadata": {
        "colab": {
          "base_uri": "https://localhost:8080/",
          "height": 34
        },
        "colab_type": "code",
        "id": "9JRnqsxEjKsD",
        "outputId": "b3e23e78-18aa-4396-c923-c877b8de60e4"
      },
      "outputs": [],
      "source": [
        "import tensorflow as tf\n",
        "from tensorflow.keras.models import Sequential\n",
        "from tensorflow.keras.layers import Dense, LSTM, Dropout\n",
        "from keras.callbacks import ModelCheckpoint\n",
        "import os"
      ]
    },
    {
      "cell_type": "markdown",
      "metadata": {
        "colab_type": "text",
        "id": "FEIE-1s9jNzC"
      },
      "source": [
        "### Initialising the RNN"
      ]
    },
    {
      "cell_type": "code",
      "execution_count": 48,
      "metadata": {
        "colab": {},
        "colab_type": "code",
        "id": "1338dJ0UjRKH"
      },
      "outputs": [],
      "source": [
        "regressor = Sequential()"
      ]
    },
    {
      "cell_type": "markdown",
      "metadata": {
        "colab_type": "text",
        "id": "62eg1OPGjT8z"
      },
      "source": [
        "### Adding the first LSTM layer and some Dropout regularisation"
      ]
    },
    {
      "cell_type": "code",
      "execution_count": 49,
      "metadata": {
        "colab": {},
        "colab_type": "code",
        "id": "2hIinyXUjbVU"
      },
      "outputs": [],
      "source": [
        "regressor.add(LSTM(units=50, return_sequences=True, input_shape=(X_train.shape[1], 1)))\n"
      ]
    },
    {
      "cell_type": "markdown",
      "metadata": {
        "colab_type": "text",
        "id": "3XBIYLyOjlMx"
      },
      "source": [
        "### Adding a second LSTM layer and some Dropout regularisation"
      ]
    },
    {
      "cell_type": "code",
      "execution_count": 50,
      "metadata": {
        "colab": {},
        "colab_type": "code",
        "id": "UG7nrVaSjuZ2"
      },
      "outputs": [],
      "source": [
        "regressor.add(LSTM(units = 50, return_sequences = True))\n"
      ]
    },
    {
      "cell_type": "markdown",
      "metadata": {
        "colab_type": "text",
        "id": "Ey3fHVnGj1cu"
      },
      "source": [
        "### Adding a third LSTM layer and some Dropout regularisation"
      ]
    },
    {
      "cell_type": "code",
      "execution_count": 51,
      "metadata": {},
      "outputs": [],
      "source": [
        "regressor.add(LSTM(units = 50, return_sequences = True))"
      ]
    },
    {
      "cell_type": "markdown",
      "metadata": {
        "colab_type": "text",
        "id": "SYTrtfTmj933"
      },
      "source": [
        "### Adding a fourth LSTM layer and some Dropout regularisation"
      ]
    },
    {
      "cell_type": "code",
      "execution_count": 52,
      "metadata": {
        "colab": {},
        "colab_type": "code",
        "id": "Jp4Ty8fRkBYV"
      },
      "outputs": [],
      "source": [
        "regressor.add(LSTM(units = 50))\n"
      ]
    },
    {
      "cell_type": "markdown",
      "metadata": {
        "colab_type": "text",
        "id": "9ABI6rOIkHhk"
      },
      "source": [
        "### Adding the output layer"
      ]
    },
    {
      "cell_type": "code",
      "execution_count": 53,
      "metadata": {
        "colab": {},
        "colab_type": "code",
        "id": "aM6R1z4WkME8"
      },
      "outputs": [],
      "source": [
        "regressor.add(Dense(units = 1))"
      ]
    },
    {
      "cell_type": "markdown",
      "metadata": {
        "colab_type": "text",
        "id": "zLx4K7uUkPSh"
      },
      "source": [
        "### Compiling the RNN"
      ]
    },
    {
      "cell_type": "code",
      "execution_count": 54,
      "metadata": {
        "colab": {},
        "colab_type": "code",
        "id": "XTrhVN-tkbko"
      },
      "outputs": [],
      "source": [
        "regressor.compile(optimizer = 'adam', loss = 'mean_squared_error')"
      ]
    },
    {
      "cell_type": "markdown",
      "metadata": {
        "colab_type": "text",
        "id": "-mPhwKGkkebi"
      },
      "source": [
        "### Fitting the RNN to the Training set"
      ]
    },
    {
      "cell_type": "code",
      "execution_count": 77,
      "metadata": {
        "colab": {
          "base_uri": "https://localhost:8080/",
          "height": 1000
        },
        "colab_type": "code",
        "id": "I06Nkrz5kkb-",
        "outputId": "dc9d947a-4d5c-4dbc-ed45-31bf44b98dfb"
      },
      "outputs": [
        {
          "name": "stdout",
          "output_type": "stream",
          "text": [
            "Epoch 1/300\n",
            "19/19 [==============================] - 1s 53ms/step - loss: 7.2739e-06\n",
            "Epoch 2/300\n",
            "19/19 [==============================] - 0s 24ms/step - loss: 1.6743e-05\n",
            "Epoch 3/300\n",
            "19/19 [==============================] - 0s 24ms/step - loss: 7.9678e-06\n",
            "Epoch 4/300\n",
            "19/19 [==============================] - 0s 24ms/step - loss: 1.0711e-05\n",
            "Epoch 5/300\n",
            "19/19 [==============================] - 0s 23ms/step - loss: 1.0879e-05\n",
            "Epoch 6/300\n",
            "19/19 [==============================] - 0s 24ms/step - loss: 1.0183e-05\n",
            "Epoch 7/300\n",
            "19/19 [==============================] - 0s 25ms/step - loss: 8.7699e-06\n",
            "Epoch 8/300\n",
            "19/19 [==============================] - 0s 24ms/step - loss: 5.4387e-06\n",
            "Epoch 9/300\n",
            "19/19 [==============================] - 0s 24ms/step - loss: 1.0676e-05\n",
            "Epoch 10/300\n",
            "19/19 [==============================] - 0s 24ms/step - loss: 1.1645e-05\n",
            "Epoch 11/300\n",
            "19/19 [==============================] - 0s 23ms/step - loss: 1.6586e-05\n",
            "Epoch 12/300\n",
            "19/19 [==============================] - 0s 23ms/step - loss: 2.7734e-05\n",
            "Epoch 13/300\n",
            "19/19 [==============================] - 0s 22ms/step - loss: 1.1662e-05\n",
            "Epoch 14/300\n",
            "19/19 [==============================] - 0s 23ms/step - loss: 6.0997e-06\n",
            "Epoch 15/300\n",
            "19/19 [==============================] - 0s 22ms/step - loss: 6.3511e-06\n",
            "Epoch 16/300\n",
            "19/19 [==============================] - 0s 22ms/step - loss: 9.4564e-06\n",
            "Epoch 17/300\n",
            "19/19 [==============================] - 0s 22ms/step - loss: 8.7485e-06\n",
            "Epoch 18/300\n",
            "19/19 [==============================] - 0s 21ms/step - loss: 6.2680e-06\n",
            "Epoch 19/300\n",
            "19/19 [==============================] - 0s 21ms/step - loss: 5.6775e-06\n",
            "Epoch 20/300\n",
            "19/19 [==============================] - 0s 21ms/step - loss: 6.5489e-06\n",
            "Epoch 21/300\n",
            "19/19 [==============================] - 0s 22ms/step - loss: 5.9569e-06\n",
            "Epoch 22/300\n",
            "19/19 [==============================] - 0s 22ms/step - loss: 7.5067e-06\n",
            "Epoch 23/300\n",
            "19/19 [==============================] - 0s 23ms/step - loss: 7.8889e-06\n",
            "Epoch 24/300\n",
            "19/19 [==============================] - 0s 22ms/step - loss: 7.7406e-06\n",
            "Epoch 25/300\n",
            "19/19 [==============================] - 0s 23ms/step - loss: 2.4248e-05\n",
            "Epoch 26/300\n",
            "19/19 [==============================] - 0s 21ms/step - loss: 1.0913e-05\n",
            "Epoch 27/300\n",
            "19/19 [==============================] - 0s 21ms/step - loss: 2.0571e-05\n",
            "Epoch 28/300\n",
            "19/19 [==============================] - 0s 22ms/step - loss: 1.2314e-05\n",
            "Epoch 29/300\n",
            "19/19 [==============================] - 0s 21ms/step - loss: 9.0740e-06\n",
            "Epoch 30/300\n",
            "19/19 [==============================] - 0s 21ms/step - loss: 1.4825e-05\n",
            "Epoch 31/300\n",
            "19/19 [==============================] - 0s 21ms/step - loss: 7.4784e-06\n",
            "Epoch 32/300\n",
            "19/19 [==============================] - 0s 22ms/step - loss: 9.2486e-06\n",
            "Epoch 33/300\n",
            "19/19 [==============================] - 0s 22ms/step - loss: 2.0857e-05\n",
            "Epoch 34/300\n",
            "19/19 [==============================] - 0s 22ms/step - loss: 1.0011e-05\n",
            "Epoch 35/300\n",
            "19/19 [==============================] - 0s 22ms/step - loss: 9.6627e-06\n",
            "Epoch 36/300\n",
            "19/19 [==============================] - 0s 22ms/step - loss: 6.0606e-06\n",
            "Epoch 37/300\n",
            "19/19 [==============================] - 0s 23ms/step - loss: 6.3409e-06\n",
            "Epoch 38/300\n",
            "19/19 [==============================] - 0s 22ms/step - loss: 8.2949e-06\n",
            "Epoch 39/300\n",
            "19/19 [==============================] - 0s 22ms/step - loss: 1.4733e-05\n",
            "Epoch 40/300\n",
            "19/19 [==============================] - 0s 21ms/step - loss: 1.9393e-05\n",
            "Epoch 41/300\n",
            "19/19 [==============================] - 0s 22ms/step - loss: 2.3377e-05\n",
            "Epoch 42/300\n",
            "19/19 [==============================] - 0s 24ms/step - loss: 1.3570e-05\n",
            "Epoch 43/300\n",
            "19/19 [==============================] - 0s 24ms/step - loss: 1.4110e-05\n",
            "Epoch 44/300\n",
            "19/19 [==============================] - 0s 22ms/step - loss: 1.5833e-05\n",
            "Epoch 45/300\n",
            "19/19 [==============================] - 0s 23ms/step - loss: 1.2745e-05\n",
            "Epoch 46/300\n",
            "19/19 [==============================] - 0s 22ms/step - loss: 8.9509e-06\n",
            "Epoch 47/300\n",
            "19/19 [==============================] - 0s 20ms/step - loss: 6.3365e-06\n",
            "Epoch 48/300\n",
            "19/19 [==============================] - 0s 21ms/step - loss: 6.2395e-06\n",
            "Epoch 49/300\n",
            "19/19 [==============================] - 0s 21ms/step - loss: 7.1684e-06\n",
            "Epoch 50/300\n",
            "19/19 [==============================] - 0s 22ms/step - loss: 7.2727e-06\n",
            "Epoch 51/300\n",
            "19/19 [==============================] - 0s 23ms/step - loss: 6.5654e-06\n",
            "Epoch 52/300\n",
            "19/19 [==============================] - 0s 23ms/step - loss: 1.3140e-05\n",
            "Epoch 53/300\n",
            "19/19 [==============================] - 0s 22ms/step - loss: 9.5652e-06\n",
            "Epoch 54/300\n",
            "19/19 [==============================] - 0s 22ms/step - loss: 1.0240e-05\n",
            "Epoch 55/300\n",
            "19/19 [==============================] - 0s 22ms/step - loss: 1.3058e-05\n",
            "Epoch 56/300\n",
            "19/19 [==============================] - 0s 22ms/step - loss: 7.0301e-06\n",
            "Epoch 57/300\n",
            "19/19 [==============================] - 0s 22ms/step - loss: 8.0066e-06\n",
            "Epoch 58/300\n",
            "19/19 [==============================] - 0s 22ms/step - loss: 1.1969e-05\n",
            "Epoch 59/300\n",
            "19/19 [==============================] - 0s 23ms/step - loss: 1.0882e-05\n",
            "Epoch 60/300\n",
            "19/19 [==============================] - 0s 23ms/step - loss: 7.0596e-06\n",
            "Epoch 61/300\n",
            "19/19 [==============================] - 0s 23ms/step - loss: 1.1858e-05\n",
            "Epoch 62/300\n",
            "19/19 [==============================] - 0s 21ms/step - loss: 6.5939e-06\n",
            "Epoch 63/300\n",
            "19/19 [==============================] - 0s 22ms/step - loss: 7.8503e-06\n",
            "Epoch 64/300\n",
            "19/19 [==============================] - 0s 23ms/step - loss: 6.5898e-06\n",
            "Epoch 65/300\n",
            "19/19 [==============================] - 0s 23ms/step - loss: 9.1347e-06\n",
            "Epoch 66/300\n",
            "19/19 [==============================] - 0s 23ms/step - loss: 9.6337e-06\n",
            "Epoch 67/300\n",
            "19/19 [==============================] - 0s 23ms/step - loss: 1.0806e-05\n",
            "Epoch 68/300\n",
            "19/19 [==============================] - 0s 24ms/step - loss: 9.0019e-06\n",
            "Epoch 69/300\n",
            "19/19 [==============================] - 0s 23ms/step - loss: 7.9849e-06\n",
            "Epoch 70/300\n",
            "19/19 [==============================] - 0s 23ms/step - loss: 7.1622e-06\n",
            "Epoch 71/300\n",
            "19/19 [==============================] - 0s 22ms/step - loss: 6.2538e-06\n",
            "Epoch 72/300\n",
            "19/19 [==============================] - 0s 21ms/step - loss: 1.2531e-05\n",
            "Epoch 73/300\n",
            "19/19 [==============================] - 0s 22ms/step - loss: 7.8852e-06\n",
            "Epoch 74/300\n",
            "19/19 [==============================] - 0s 21ms/step - loss: 7.0127e-06\n",
            "Epoch 75/300\n",
            "19/19 [==============================] - 0s 21ms/step - loss: 1.2170e-05\n",
            "Epoch 76/300\n",
            "19/19 [==============================] - 0s 22ms/step - loss: 2.0557e-05\n",
            "Epoch 77/300\n",
            "19/19 [==============================] - 0s 22ms/step - loss: 1.1389e-05\n",
            "Epoch 78/300\n",
            "19/19 [==============================] - 0s 23ms/step - loss: 1.1422e-05\n",
            "Epoch 79/300\n",
            "19/19 [==============================] - 0s 22ms/step - loss: 2.2428e-05\n",
            "Epoch 80/300\n",
            "19/19 [==============================] - 0s 21ms/step - loss: 1.4172e-05\n",
            "Epoch 81/300\n",
            "19/19 [==============================] - 0s 22ms/step - loss: 8.2558e-06\n",
            "Epoch 82/300\n",
            "19/19 [==============================] - 0s 21ms/step - loss: 1.3686e-05\n",
            "Epoch 83/300\n",
            "19/19 [==============================] - 0s 21ms/step - loss: 8.4565e-06\n",
            "Epoch 84/300\n",
            "19/19 [==============================] - 0s 21ms/step - loss: 6.7227e-06\n",
            "Epoch 85/300\n",
            "19/19 [==============================] - 0s 24ms/step - loss: 1.1417e-05\n",
            "Epoch 86/300\n",
            "19/19 [==============================] - 0s 23ms/step - loss: 1.1203e-05\n",
            "Epoch 87/300\n",
            "19/19 [==============================] - 0s 23ms/step - loss: 1.3357e-05\n",
            "Epoch 88/300\n",
            "19/19 [==============================] - 0s 21ms/step - loss: 8.3798e-06\n",
            "Epoch 89/300\n",
            "19/19 [==============================] - 0s 22ms/step - loss: 6.6001e-06\n",
            "Epoch 90/300\n",
            "19/19 [==============================] - 0s 21ms/step - loss: 8.5437e-06\n",
            "Epoch 91/300\n",
            "19/19 [==============================] - 0s 21ms/step - loss: 8.9163e-06\n",
            "Epoch 92/300\n",
            "19/19 [==============================] - 0s 21ms/step - loss: 7.4167e-06\n",
            "Epoch 93/300\n",
            "19/19 [==============================] - 0s 22ms/step - loss: 1.0169e-05\n",
            "Epoch 94/300\n",
            "19/19 [==============================] - 0s 22ms/step - loss: 1.0053e-05\n",
            "Epoch 95/300\n",
            "19/19 [==============================] - 0s 22ms/step - loss: 9.0273e-06\n",
            "Epoch 96/300\n",
            "19/19 [==============================] - 0s 22ms/step - loss: 1.2668e-05\n",
            "Epoch 97/300\n",
            "19/19 [==============================] - 0s 23ms/step - loss: 8.2999e-06\n",
            "Epoch 98/300\n",
            "19/19 [==============================] - 0s 23ms/step - loss: 8.7498e-06\n",
            "Epoch 99/300\n",
            "19/19 [==============================] - 0s 22ms/step - loss: 9.4152e-06\n",
            "Epoch 100/300\n",
            "19/19 [==============================] - 0s 22ms/step - loss: 8.9808e-06\n",
            "Epoch 101/300\n",
            "19/19 [==============================] - 0s 22ms/step - loss: 1.1075e-05\n",
            "Epoch 102/300\n",
            "19/19 [==============================] - 0s 22ms/step - loss: 4.5164e-05\n",
            "Epoch 103/300\n",
            "19/19 [==============================] - 0s 24ms/step - loss: 1.4168e-05\n",
            "Epoch 104/300\n",
            "19/19 [==============================] - 0s 23ms/step - loss: 9.1009e-06\n",
            "Epoch 105/300\n",
            "19/19 [==============================] - 0s 23ms/step - loss: 1.6482e-05\n",
            "Epoch 106/300\n",
            "19/19 [==============================] - 0s 22ms/step - loss: 9.2123e-06\n",
            "Epoch 107/300\n",
            "19/19 [==============================] - 0s 21ms/step - loss: 8.4376e-06\n",
            "Epoch 108/300\n",
            "19/19 [==============================] - 0s 20ms/step - loss: 7.0714e-06\n",
            "Epoch 109/300\n",
            "19/19 [==============================] - 0s 21ms/step - loss: 2.1918e-05\n",
            "Epoch 110/300\n",
            "19/19 [==============================] - 0s 21ms/step - loss: 3.2534e-05\n",
            "Epoch 111/300\n",
            "19/19 [==============================] - 0s 22ms/step - loss: 5.5777e-05\n",
            "Epoch 112/300\n",
            "19/19 [==============================] - 0s 22ms/step - loss: 2.7871e-05\n",
            "Epoch 113/300\n",
            "19/19 [==============================] - 0s 22ms/step - loss: 8.6739e-06\n",
            "Epoch 114/300\n",
            "19/19 [==============================] - 0s 22ms/step - loss: 8.2296e-06\n",
            "Epoch 115/300\n",
            "19/19 [==============================] - 0s 22ms/step - loss: 6.8297e-06\n",
            "Epoch 116/300\n",
            "19/19 [==============================] - 0s 22ms/step - loss: 1.1313e-05\n",
            "Epoch 117/300\n",
            "19/19 [==============================] - 0s 21ms/step - loss: 1.4186e-05\n",
            "Epoch 118/300\n",
            "19/19 [==============================] - 0s 21ms/step - loss: 1.3947e-05\n",
            "Epoch 119/300\n",
            "19/19 [==============================] - 0s 21ms/step - loss: 1.3032e-05\n",
            "Epoch 120/300\n",
            "19/19 [==============================] - 0s 22ms/step - loss: 9.3012e-06\n",
            "Epoch 121/300\n",
            "19/19 [==============================] - 0s 23ms/step - loss: 9.5724e-06\n",
            "Epoch 122/300\n",
            "19/19 [==============================] - 0s 23ms/step - loss: 1.0490e-05\n",
            "Epoch 123/300\n",
            "19/19 [==============================] - 0s 22ms/step - loss: 1.1148e-05\n",
            "Epoch 124/300\n",
            "19/19 [==============================] - 0s 22ms/step - loss: 1.7550e-05\n",
            "Epoch 125/300\n",
            "19/19 [==============================] - 0s 23ms/step - loss: 6.7482e-06\n",
            "Epoch 126/300\n",
            "19/19 [==============================] - 0s 22ms/step - loss: 8.6397e-06\n",
            "Epoch 127/300\n",
            "19/19 [==============================] - 0s 22ms/step - loss: 1.4489e-05\n",
            "Epoch 128/300\n",
            "19/19 [==============================] - 0s 22ms/step - loss: 1.3908e-05\n",
            "Epoch 129/300\n",
            "19/19 [==============================] - 0s 23ms/step - loss: 1.5681e-05\n",
            "Epoch 130/300\n",
            "19/19 [==============================] - 0s 23ms/step - loss: 8.6198e-06\n",
            "Epoch 131/300\n",
            "19/19 [==============================] - 0s 22ms/step - loss: 6.7295e-06\n",
            "Epoch 132/300\n",
            "19/19 [==============================] - 0s 22ms/step - loss: 5.5911e-06\n",
            "Epoch 133/300\n",
            "19/19 [==============================] - 0s 22ms/step - loss: 7.1902e-06\n",
            "Epoch 134/300\n",
            "19/19 [==============================] - 0s 22ms/step - loss: 5.4841e-06\n",
            "Epoch 135/300\n",
            "19/19 [==============================] - 0s 21ms/step - loss: 8.1794e-06\n",
            "Epoch 136/300\n",
            "19/19 [==============================] - 0s 21ms/step - loss: 1.3739e-05\n",
            "Epoch 137/300\n",
            "19/19 [==============================] - 0s 22ms/step - loss: 1.0139e-05\n",
            "Epoch 138/300\n",
            "19/19 [==============================] - 0s 22ms/step - loss: 1.0670e-05\n",
            "Epoch 139/300\n",
            "19/19 [==============================] - 0s 23ms/step - loss: 7.8817e-06\n",
            "Epoch 140/300\n",
            "19/19 [==============================] - 0s 23ms/step - loss: 9.9138e-06\n",
            "Epoch 141/300\n",
            "19/19 [==============================] - 0s 23ms/step - loss: 5.8733e-06\n",
            "Epoch 142/300\n",
            "19/19 [==============================] - 0s 24ms/step - loss: 5.2380e-06\n",
            "Epoch 143/300\n",
            "19/19 [==============================] - 0s 22ms/step - loss: 6.2704e-06\n",
            "Epoch 144/300\n",
            "19/19 [==============================] - 0s 22ms/step - loss: 1.2615e-05\n",
            "Epoch 145/300\n",
            "19/19 [==============================] - 0s 23ms/step - loss: 6.4520e-06\n",
            "Epoch 146/300\n",
            "19/19 [==============================] - 0s 24ms/step - loss: 8.6440e-06\n",
            "Epoch 147/300\n",
            "19/19 [==============================] - 0s 24ms/step - loss: 9.5069e-06\n",
            "Epoch 148/300\n",
            "19/19 [==============================] - 0s 25ms/step - loss: 1.1874e-05\n",
            "Epoch 149/300\n",
            "19/19 [==============================] - 0s 23ms/step - loss: 1.0703e-05\n",
            "Epoch 150/300\n",
            "19/19 [==============================] - 0s 23ms/step - loss: 1.1953e-05\n",
            "Epoch 151/300\n",
            "19/19 [==============================] - 0s 24ms/step - loss: 1.6606e-05\n",
            "Epoch 152/300\n",
            "19/19 [==============================] - 0s 24ms/step - loss: 3.9088e-05\n",
            "Epoch 153/300\n",
            "19/19 [==============================] - 0s 24ms/step - loss: 2.4628e-05\n",
            "Epoch 154/300\n",
            "19/19 [==============================] - 0s 25ms/step - loss: 1.3501e-05\n",
            "Epoch 155/300\n",
            "19/19 [==============================] - 0s 26ms/step - loss: 1.7735e-05\n",
            "Epoch 156/300\n",
            "19/19 [==============================] - 0s 26ms/step - loss: 1.6820e-05\n",
            "Epoch 157/300\n",
            "19/19 [==============================] - 0s 24ms/step - loss: 2.1657e-05\n",
            "Epoch 158/300\n",
            "19/19 [==============================] - 0s 24ms/step - loss: 8.8151e-06\n",
            "Epoch 159/300\n",
            "19/19 [==============================] - 0s 23ms/step - loss: 7.1059e-06\n",
            "Epoch 160/300\n",
            "19/19 [==============================] - 0s 23ms/step - loss: 1.4219e-05\n",
            "Epoch 161/300\n",
            "19/19 [==============================] - 0s 23ms/step - loss: 1.8562e-05\n",
            "Epoch 162/300\n",
            "19/19 [==============================] - 0s 24ms/step - loss: 9.1869e-06\n",
            "Epoch 163/300\n",
            "19/19 [==============================] - 0s 26ms/step - loss: 1.0956e-05\n",
            "Epoch 164/300\n",
            "19/19 [==============================] - 0s 24ms/step - loss: 7.5050e-06\n",
            "Epoch 165/300\n",
            "19/19 [==============================] - 0s 24ms/step - loss: 8.9741e-06\n",
            "Epoch 166/300\n",
            "19/19 [==============================] - 0s 23ms/step - loss: 1.5102e-05\n",
            "Epoch 167/300\n",
            "19/19 [==============================] - 0s 23ms/step - loss: 1.3412e-05\n",
            "Epoch 168/300\n",
            "19/19 [==============================] - 0s 23ms/step - loss: 8.4720e-06\n",
            "Epoch 169/300\n",
            "19/19 [==============================] - 0s 23ms/step - loss: 7.3445e-06\n",
            "Epoch 170/300\n",
            "19/19 [==============================] - 0s 23ms/step - loss: 2.5490e-05\n",
            "Epoch 171/300\n",
            "19/19 [==============================] - 0s 24ms/step - loss: 1.1108e-05\n",
            "Epoch 172/300\n",
            "19/19 [==============================] - 0s 24ms/step - loss: 1.5487e-05\n",
            "Epoch 173/300\n",
            "19/19 [==============================] - 0s 24ms/step - loss: 3.0039e-05\n",
            "Epoch 174/300\n",
            "19/19 [==============================] - 0s 22ms/step - loss: 2.5202e-05\n",
            "Epoch 175/300\n",
            "19/19 [==============================] - 0s 22ms/step - loss: 2.1286e-05\n",
            "Epoch 176/300\n",
            "19/19 [==============================] - 0s 22ms/step - loss: 1.1901e-05\n",
            "Epoch 177/300\n",
            "19/19 [==============================] - 0s 22ms/step - loss: 7.0821e-06\n",
            "Epoch 178/300\n",
            "19/19 [==============================] - 0s 23ms/step - loss: 8.6457e-06\n",
            "Epoch 179/300\n",
            "19/19 [==============================] - 0s 23ms/step - loss: 9.0915e-06\n",
            "Epoch 180/300\n",
            "19/19 [==============================] - 0s 25ms/step - loss: 5.9608e-06\n",
            "Epoch 181/300\n",
            "19/19 [==============================] - 0s 25ms/step - loss: 2.3667e-05\n",
            "Epoch 182/300\n",
            "19/19 [==============================] - 0s 25ms/step - loss: 2.1614e-05\n",
            "Epoch 183/300\n",
            "19/19 [==============================] - 0s 24ms/step - loss: 9.2921e-06\n",
            "Epoch 184/300\n",
            "19/19 [==============================] - 0s 24ms/step - loss: 1.1879e-05\n",
            "Epoch 185/300\n",
            "19/19 [==============================] - 0s 24ms/step - loss: 2.0989e-05\n",
            "Epoch 186/300\n",
            "19/19 [==============================] - 0s 23ms/step - loss: 1.4860e-05\n",
            "Epoch 187/300\n",
            "19/19 [==============================] - 0s 23ms/step - loss: 9.0364e-06\n",
            "Epoch 188/300\n",
            "19/19 [==============================] - 0s 23ms/step - loss: 8.8951e-06\n",
            "Epoch 189/300\n",
            "19/19 [==============================] - 0s 25ms/step - loss: 5.2626e-06\n",
            "Epoch 190/300\n",
            "19/19 [==============================] - 0s 25ms/step - loss: 8.8980e-06\n",
            "Epoch 191/300\n",
            "19/19 [==============================] - 0s 24ms/step - loss: 9.0233e-06\n",
            "Epoch 192/300\n",
            "19/19 [==============================] - 0s 23ms/step - loss: 6.3127e-06\n",
            "Epoch 193/300\n",
            "19/19 [==============================] - 0s 24ms/step - loss: 6.2235e-06\n",
            "Epoch 194/300\n",
            "19/19 [==============================] - 0s 24ms/step - loss: 1.1483e-05\n",
            "Epoch 195/300\n",
            "19/19 [==============================] - 0s 24ms/step - loss: 1.0479e-05\n",
            "Epoch 196/300\n",
            "19/19 [==============================] - 0s 25ms/step - loss: 1.2847e-05\n",
            "Epoch 197/300\n",
            "19/19 [==============================] - 0s 24ms/step - loss: 8.6586e-06\n",
            "Epoch 198/300\n",
            "19/19 [==============================] - 0s 25ms/step - loss: 2.2343e-05\n",
            "Epoch 199/300\n",
            "19/19 [==============================] - 0s 24ms/step - loss: 2.4938e-05\n",
            "Epoch 200/300\n",
            "19/19 [==============================] - 0s 23ms/step - loss: 1.6770e-05\n",
            "Epoch 201/300\n",
            "19/19 [==============================] - 0s 23ms/step - loss: 8.2457e-06\n",
            "Epoch 202/300\n",
            "19/19 [==============================] - 0s 23ms/step - loss: 6.9158e-06\n",
            "Epoch 203/300\n",
            "19/19 [==============================] - 0s 23ms/step - loss: 7.9714e-06\n",
            "Epoch 204/300\n",
            "19/19 [==============================] - 0s 24ms/step - loss: 9.6693e-06\n",
            "Epoch 205/300\n",
            "19/19 [==============================] - 0s 24ms/step - loss: 7.6794e-06\n",
            "Epoch 206/300\n",
            "19/19 [==============================] - 0s 25ms/step - loss: 6.5015e-06\n",
            "Epoch 207/300\n",
            "19/19 [==============================] - 0s 23ms/step - loss: 4.2294e-05\n",
            "Epoch 208/300\n",
            "19/19 [==============================] - 0s 23ms/step - loss: 1.0617e-05\n",
            "Epoch 209/300\n",
            "19/19 [==============================] - 0s 24ms/step - loss: 1.8416e-05\n",
            "Epoch 210/300\n",
            "19/19 [==============================] - 0s 23ms/step - loss: 6.8255e-06\n",
            "Epoch 211/300\n",
            "19/19 [==============================] - 0s 23ms/step - loss: 6.8676e-06\n",
            "Epoch 212/300\n",
            "19/19 [==============================] - 0s 23ms/step - loss: 9.1503e-06\n",
            "Epoch 213/300\n",
            "19/19 [==============================] - 0s 23ms/step - loss: 1.2207e-05\n",
            "Epoch 214/300\n",
            "19/19 [==============================] - 0s 24ms/step - loss: 2.5209e-05\n",
            "Epoch 215/300\n",
            "19/19 [==============================] - 0s 24ms/step - loss: 1.0942e-05\n",
            "Epoch 216/300\n",
            "19/19 [==============================] - 0s 24ms/step - loss: 1.1605e-05\n",
            "Epoch 217/300\n",
            "19/19 [==============================] - 0s 23ms/step - loss: 8.2049e-06\n",
            "Epoch 218/300\n",
            "19/19 [==============================] - 0s 23ms/step - loss: 1.0411e-05\n",
            "Epoch 219/300\n",
            "19/19 [==============================] - 0s 25ms/step - loss: 1.0237e-05\n",
            "Epoch 220/300\n",
            "19/19 [==============================] - 0s 24ms/step - loss: 1.7084e-05\n",
            "Epoch 221/300\n",
            "19/19 [==============================] - 0s 22ms/step - loss: 1.0219e-05\n",
            "Epoch 222/300\n",
            "19/19 [==============================] - 0s 22ms/step - loss: 7.7960e-06\n",
            "Epoch 223/300\n",
            "19/19 [==============================] - 0s 23ms/step - loss: 7.3684e-06\n",
            "Epoch 224/300\n",
            "19/19 [==============================] - 0s 22ms/step - loss: 7.3540e-06\n",
            "Epoch 225/300\n",
            "19/19 [==============================] - 0s 23ms/step - loss: 1.1050e-05\n",
            "Epoch 226/300\n",
            "19/19 [==============================] - 0s 22ms/step - loss: 1.0471e-05\n",
            "Epoch 227/300\n",
            "19/19 [==============================] - 0s 22ms/step - loss: 1.0380e-05\n",
            "Epoch 228/300\n",
            "19/19 [==============================] - 0s 22ms/step - loss: 1.1878e-05\n",
            "Epoch 229/300\n",
            "19/19 [==============================] - 0s 22ms/step - loss: 7.0980e-06\n",
            "Epoch 230/300\n",
            "19/19 [==============================] - 0s 22ms/step - loss: 5.4007e-06\n",
            "Epoch 231/300\n",
            "19/19 [==============================] - 0s 22ms/step - loss: 6.5599e-06\n",
            "Epoch 232/300\n",
            "19/19 [==============================] - 0s 22ms/step - loss: 2.2290e-05\n",
            "Epoch 233/300\n",
            "19/19 [==============================] - 0s 22ms/step - loss: 2.6240e-05\n",
            "Epoch 234/300\n",
            "19/19 [==============================] - 0s 21ms/step - loss: 2.0214e-05\n",
            "Epoch 235/300\n",
            "19/19 [==============================] - 0s 22ms/step - loss: 1.2088e-05\n",
            "Epoch 236/300\n",
            "19/19 [==============================] - 0s 22ms/step - loss: 9.9136e-06\n",
            "Epoch 237/300\n",
            "19/19 [==============================] - 0s 20ms/step - loss: 8.6425e-06\n",
            "Epoch 238/300\n",
            "19/19 [==============================] - 0s 21ms/step - loss: 7.4065e-06\n",
            "Epoch 239/300\n",
            "19/19 [==============================] - 0s 21ms/step - loss: 1.1302e-05\n",
            "Epoch 240/300\n",
            "19/19 [==============================] - 0s 22ms/step - loss: 7.7594e-06\n",
            "Epoch 241/300\n",
            "19/19 [==============================] - 0s 22ms/step - loss: 8.7297e-06\n",
            "Epoch 242/300\n",
            "19/19 [==============================] - 0s 23ms/step - loss: 1.0420e-05\n",
            "Epoch 243/300\n",
            "19/19 [==============================] - 0s 20ms/step - loss: 8.7559e-06\n",
            "Epoch 244/300\n",
            "19/19 [==============================] - 0s 21ms/step - loss: 7.3636e-06\n",
            "Epoch 245/300\n",
            "19/19 [==============================] - 0s 21ms/step - loss: 7.9303e-06\n",
            "Epoch 246/300\n",
            "19/19 [==============================] - 0s 21ms/step - loss: 7.7799e-06\n",
            "Epoch 247/300\n",
            "19/19 [==============================] - 0s 21ms/step - loss: 1.3015e-05\n",
            "Epoch 248/300\n",
            "19/19 [==============================] - 0s 21ms/step - loss: 6.2127e-06\n",
            "Epoch 249/300\n",
            "19/19 [==============================] - 0s 21ms/step - loss: 6.9787e-06\n",
            "Epoch 250/300\n",
            "19/19 [==============================] - 0s 21ms/step - loss: 9.7823e-06\n",
            "Epoch 251/300\n",
            "19/19 [==============================] - 0s 20ms/step - loss: 6.2101e-06\n",
            "Epoch 252/300\n",
            "19/19 [==============================] - 0s 20ms/step - loss: 8.2787e-06\n",
            "Epoch 253/300\n",
            "19/19 [==============================] - 0s 20ms/step - loss: 9.8245e-06\n",
            "Epoch 254/300\n",
            "19/19 [==============================] - 0s 20ms/step - loss: 7.1581e-06\n",
            "Epoch 255/300\n",
            "19/19 [==============================] - 0s 21ms/step - loss: 1.4348e-05\n",
            "Epoch 256/300\n",
            "19/19 [==============================] - 0s 20ms/step - loss: 1.5782e-05\n",
            "Epoch 257/300\n",
            "19/19 [==============================] - 0s 20ms/step - loss: 1.0820e-05\n",
            "Epoch 258/300\n",
            "19/19 [==============================] - 0s 20ms/step - loss: 1.3398e-05\n",
            "Epoch 259/300\n",
            "19/19 [==============================] - 0s 21ms/step - loss: 7.8221e-06\n",
            "Epoch 260/300\n",
            "19/19 [==============================] - 0s 21ms/step - loss: 1.1307e-05\n",
            "Epoch 261/300\n",
            "19/19 [==============================] - 0s 20ms/step - loss: 7.4126e-06\n",
            "Epoch 262/300\n",
            "19/19 [==============================] - 0s 20ms/step - loss: 1.0511e-05\n",
            "Epoch 263/300\n",
            "19/19 [==============================] - 0s 20ms/step - loss: 5.9595e-06\n",
            "Epoch 264/300\n",
            "19/19 [==============================] - 0s 20ms/step - loss: 6.0803e-06\n",
            "Epoch 265/300\n",
            "19/19 [==============================] - 0s 20ms/step - loss: 1.9750e-05\n",
            "Epoch 266/300\n",
            "19/19 [==============================] - 0s 19ms/step - loss: 2.0042e-05\n",
            "Epoch 267/300\n",
            "19/19 [==============================] - 0s 19ms/step - loss: 1.1471e-05\n",
            "Epoch 268/300\n",
            "19/19 [==============================] - 0s 20ms/step - loss: 1.2040e-05\n",
            "Epoch 269/300\n",
            "19/19 [==============================] - 0s 20ms/step - loss: 8.4257e-06\n",
            "Epoch 270/300\n",
            "19/19 [==============================] - 0s 20ms/step - loss: 1.1303e-05\n",
            "Epoch 271/300\n",
            "19/19 [==============================] - 0s 20ms/step - loss: 1.4367e-05\n",
            "Epoch 272/300\n",
            "19/19 [==============================] - 0s 19ms/step - loss: 2.4640e-05\n",
            "Epoch 273/300\n",
            "19/19 [==============================] - 0s 20ms/step - loss: 1.1127e-05\n",
            "Epoch 274/300\n",
            "19/19 [==============================] - 0s 20ms/step - loss: 8.6500e-06\n",
            "Epoch 275/300\n",
            "19/19 [==============================] - 0s 19ms/step - loss: 7.7758e-06\n",
            "Epoch 276/300\n",
            "19/19 [==============================] - 0s 20ms/step - loss: 9.2354e-06\n",
            "Epoch 277/300\n",
            "19/19 [==============================] - 0s 20ms/step - loss: 7.7278e-06\n",
            "Epoch 278/300\n",
            "19/19 [==============================] - 0s 21ms/step - loss: 9.7178e-06\n",
            "Epoch 279/300\n",
            "19/19 [==============================] - 0s 22ms/step - loss: 1.0900e-05\n",
            "Epoch 280/300\n",
            "19/19 [==============================] - 0s 21ms/step - loss: 1.1263e-05\n",
            "Epoch 281/300\n",
            "19/19 [==============================] - 0s 21ms/step - loss: 1.6949e-05\n",
            "Epoch 282/300\n",
            "19/19 [==============================] - 0s 21ms/step - loss: 2.1899e-05\n",
            "Epoch 283/300\n",
            "19/19 [==============================] - 0s 21ms/step - loss: 6.3518e-05\n",
            "Epoch 284/300\n",
            "19/19 [==============================] - 0s 21ms/step - loss: 2.5822e-05\n",
            "Epoch 285/300\n",
            "19/19 [==============================] - 0s 21ms/step - loss: 1.1910e-05\n",
            "Epoch 286/300\n",
            "19/19 [==============================] - 0s 20ms/step - loss: 7.2527e-06\n",
            "Epoch 287/300\n",
            "19/19 [==============================] - 0s 22ms/step - loss: 1.0734e-05\n",
            "Epoch 288/300\n",
            "19/19 [==============================] - 0s 22ms/step - loss: 7.7117e-06\n",
            "Epoch 289/300\n",
            "19/19 [==============================] - 0s 23ms/step - loss: 8.1489e-06\n",
            "Epoch 290/300\n",
            "19/19 [==============================] - 0s 21ms/step - loss: 1.4166e-05\n",
            "Epoch 291/300\n",
            "19/19 [==============================] - 0s 20ms/step - loss: 9.6030e-06\n",
            "Epoch 292/300\n",
            "19/19 [==============================] - 0s 20ms/step - loss: 8.5556e-06\n",
            "Epoch 293/300\n",
            "19/19 [==============================] - 0s 20ms/step - loss: 6.7020e-06\n",
            "Epoch 294/300\n",
            "19/19 [==============================] - 0s 21ms/step - loss: 1.2176e-05\n",
            "Epoch 295/300\n",
            "19/19 [==============================] - 0s 21ms/step - loss: 8.8268e-06\n",
            "Epoch 296/300\n",
            "19/19 [==============================] - 0s 21ms/step - loss: 1.2233e-05\n",
            "Epoch 297/300\n",
            "19/19 [==============================] - 0s 21ms/step - loss: 1.1492e-05\n",
            "Epoch 298/300\n",
            "19/19 [==============================] - 0s 21ms/step - loss: 9.9284e-06\n",
            "Epoch 299/300\n",
            "19/19 [==============================] - 0s 20ms/step - loss: 1.1079e-05\n",
            "Epoch 300/300\n",
            "19/19 [==============================] - 0s 20ms/step - loss: 1.2230e-05\n"
          ]
        },
        {
          "data": {
            "text/plain": [
              "<tensorflow.python.keras.callbacks.History at 0x2781d79df40>"
            ]
          },
          "execution_count": 77,
          "metadata": {},
          "output_type": "execute_result"
        }
      ],
      "source": [
        "regressor.fit(X_train, y_train, epochs=300, batch_size=32)"
      ]
    },
    {
      "cell_type": "markdown",
      "metadata": {
        "colab_type": "text",
        "id": "4hRau_lIkrE8"
      },
      "source": [
        "## Part 3 - Making the predictions and visualising the results"
      ]
    },
    {
      "attachments": {},
      "cell_type": "markdown",
      "metadata": {
        "colab_type": "text",
        "id": "SgJO6qEDksxD"
      },
      "source": [
        "### Getting the real PCE "
      ]
    },
    {
      "cell_type": "code",
      "execution_count": 64,
      "metadata": {
        "colab": {},
        "colab_type": "code",
        "id": "FmBT2zqukxTz"
      },
      "outputs": [],
      "source": [
        "real_PCE_data = dataset_test.iloc[:, 1:2].values"
      ]
    },
    {
      "attachments": {},
      "cell_type": "markdown",
      "metadata": {
        "colab_type": "text",
        "id": "GrvrLblxkz42"
      },
      "source": [
        "### Getting the predicted PCE"
      ]
    },
    {
      "cell_type": "code",
      "execution_count": 75,
      "metadata": {
        "colab": {},
        "colab_type": "code",
        "id": "emikTvUpk3Ck"
      },
      "outputs": [],
      "source": [
        "dataset_total = pd.concat((dataset_train['PCE'], dataset_test['PCE']), axis = 0)\n",
        "inputs = dataset_total[len(dataset_total) - len(dataset_test) - timestep:].values\n",
        "inputs = inputs.reshape(-1,1)\n",
        "inputs = sc.transform(inputs)\n",
        "X_test = []\n",
        "for i in range(timestep, len(dataset_test)+timestep):\n",
        "    X_test.append(inputs[i-timestep:i, 0])\n",
        "X_test = np.array(X_test)\n",
        "X_test = np.reshape(X_test, (X_test.shape[0], X_test.shape[1], 1))\n",
        "predicted = regressor.predict(X_test)\n",
        "predicted = sc.inverse_transform(predicted)"
      ]
    },
    {
      "cell_type": "markdown",
      "metadata": {
        "colab_type": "text",
        "id": "iFTNs3YHk6FQ"
      },
      "source": [
        "### Visualising the results"
      ]
    },
    {
      "cell_type": "code",
      "execution_count": 76,
      "metadata": {
        "colab": {
          "base_uri": "https://localhost:8080/",
          "height": 295
        },
        "colab_type": "code",
        "id": "8OUI8U49k9tH",
        "outputId": "db0ed15e-071b-4bae-955e-0eda3df95238"
      },
      "outputs": [
        {
          "data": {
            "image/png": "[encoded data removed]",
            "text/plain": [
              "<Figure size 640x480 with 1 Axes>"
            ]
          },
          "metadata": {},
          "output_type": "display_data"
        }
      ],
      "source": [
        "plt.plot(real_PCE_data, color = 'red', label = 'Real PCE')\n",
        "plt.plot(predicted, color = 'blue', label = 'Predicted PCE')\n",
        "plt.title('PCE Prediction')\n",
        "plt.xlabel('Date')\n",
        "plt.ylabel('PCE')\n",
        "plt.legend()\n",
        "plt.show()"
      ]
    },
    {
      "cell_type": "code",
      "execution_count": 59,
      "metadata": {},
      "outputs": [],
      "source": [
        "# save predicted values\n",
        "predicted_df = pd.DataFrame(predicted)"
      ]
    },
    {
      "cell_type": "code",
      "execution_count": 70,
      "metadata": {},
      "outputs": [],
      "source": [
        "regressor.save('model_best_current.h5')"
      ]
    }
  ],
  "metadata": {
    "colab": {
      "collapsed_sections": [],
      "name": "recurrent_neural_network.ipynb",
      "provenance": []
    },
    "kernelspec": {
      "display_name": "base",
      "language": "python",
      "name": "python3"
    },
    "language_info": {
      "codemirror_mode": {
        "name": "ipython",
        "version": 3
      },
      "file_extension": ".py",
      "mimetype": "text/x-python",
      "name": "python",
      "nbconvert_exporter": "python",
      "pygments_lexer": "ipython3",
      "version": "3.9.13"
    },
    "vscode": {
      "interpreter": {
        "hash": "ad2bdc8ecc057115af97d19610ffacc2b4e99fae6737bb82f5d7fb13d2f2c186"
      }
    }
  },
  "nbformat": 4,
  "nbformat_minor": 0
}
